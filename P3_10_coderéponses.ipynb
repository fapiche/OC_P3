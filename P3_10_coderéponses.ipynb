{
 "cells": [
  {
   "cell_type": "markdown",
   "id": "65ef6568",
   "metadata": {},
   "source": [
    "# Quelle proportion de la population mondiale est considérée comme étant en sous-nutrition ?"
   ]
  },
  {
   "cell_type": "code",
   "execution_count": 1,
   "id": "975f5dba",
   "metadata": {},
   "outputs": [],
   "source": [
    "import pandas as pd"
   ]
  },
  {
   "cell_type": "code",
   "execution_count": 2,
   "id": "79dbff71",
   "metadata": {},
   "outputs": [
    {
     "data": {
      "text/plain": [
       "(119, 2)"
      ]
     },
     "execution_count": 2,
     "metadata": {},
     "output_type": "execute_result"
    }
   ],
   "source": [
    "#On importe et formate nos données\n",
    "data_population = pd.read_csv('fr_population.csv')\n",
    "data_sous_alimentation = pd.read_csv('fr_sousalimentation.csv')\n",
    "\n",
    "#On gère nos noms de colonnes via des variables pour faciliter la maintenance du code\n",
    "code_domaine = 'Code Domaine'\n",
    "domaine = 'Domaine'\n",
    "code_zone = \"Code zone\"\n",
    "zone = 'Zone'\n",
    "code_element = 'Code Élément'\n",
    "element = 'Élément'\n",
    "code_produit = 'Code Produit'\n",
    "produit = 'Produit'\n",
    "code_annee = 'Code année'\n",
    "annee = 'Année'\n",
    "unite = 'Unité'\n",
    "valeur = 'Valeur'\n",
    "symbole = 'Symbole'\n",
    "description_symbole = 'Description du Symbole'\n",
    "note = 'Note'\n",
    "pourcent_pop_mondiale_sous_nutrition = 'Proportion de la population mondiale en sous-nutrition en %'\n",
    "#On enlève les doublons et les informations inutiles de nos données\n",
    "mask0 = data_population[code_zone] != 351\n",
    "mask1 = data_sous_alimentation[code_zone] != 351\n",
    "mask2 = data_sous_alimentation[annee] == '2012-2014'\n",
    "data_sous_alimentation= data_sous_alimentation.drop([code_domaine, domaine, code_zone, zone, code_element, element, code_produit, produit, code_annee, unite, symbole, description_symbole, note], axis = 1)\n",
    "data_population = data_population[mask0]\n",
    "data_sous_alimentation = data_sous_alimentation[mask1 & mask2]\n",
    "\n",
    "#on enlève les lignes dont les données sont manquantes\n",
    "data_sous_alimentation = data_sous_alimentation.dropna()\n",
    "\n",
    "#On gère les données non numériques et on converti nos valeurs en float\n",
    "data_sous_alimentation[valeur] = data_sous_alimentation[valeur].replace('<0.1', float(0.05))\n",
    "\n",
    "data_sous_alimentation = data_sous_alimentation.astype({valeur : 'float'})\n",
    "data_sous_alimentation.shape"
   ]
  },
  {
   "cell_type": "code",
   "execution_count": 3,
   "id": "e1cfd292",
   "metadata": {},
   "outputs": [],
   "source": [
    "#On récupère la population mondiale\n",
    "population_mondiale = data_population[valeur].sum() * 1000"
   ]
  },
  {
   "cell_type": "code",
   "execution_count": 4,
   "id": "aaa31362",
   "metadata": {},
   "outputs": [
    {
     "data": {
      "text/html": [
       "<div>\n",
       "<style scoped>\n",
       "    .dataframe tbody tr th:only-of-type {\n",
       "        vertical-align: middle;\n",
       "    }\n",
       "\n",
       "    .dataframe tbody tr th {\n",
       "        vertical-align: top;\n",
       "    }\n",
       "\n",
       "    .dataframe thead th {\n",
       "        text-align: right;\n",
       "    }\n",
       "</style>\n",
       "<table border=\"1\" class=\"dataframe\">\n",
       "  <thead>\n",
       "    <tr style=\"text-align: right;\">\n",
       "      <th></th>\n",
       "      <th>Année</th>\n",
       "      <th>Valeur</th>\n",
       "    </tr>\n",
       "  </thead>\n",
       "  <tbody>\n",
       "    <tr>\n",
       "      <th>0</th>\n",
       "      <td>2012-2014</td>\n",
       "      <td>744.85</td>\n",
       "    </tr>\n",
       "  </tbody>\n",
       "</table>\n",
       "</div>"
      ],
      "text/plain": [
       "       Année  Valeur\n",
       "0  2012-2014  744.85"
      ]
     },
     "execution_count": 4,
     "metadata": {},
     "output_type": "execute_result"
    }
   ],
   "source": [
    "#On regroupe les données par Années \n",
    "data_sous_alimentation = data_sous_alimentation.groupby(annee).sum(valeur).reset_index()\n",
    "data_sous_alimentation.head()"
   ]
  },
  {
   "cell_type": "code",
   "execution_count": 5,
   "id": "a82edffe",
   "metadata": {},
   "outputs": [
    {
     "data": {
      "text/html": [
       "<div>\n",
       "<style scoped>\n",
       "    .dataframe tbody tr th:only-of-type {\n",
       "        vertical-align: middle;\n",
       "    }\n",
       "\n",
       "    .dataframe tbody tr th {\n",
       "        vertical-align: top;\n",
       "    }\n",
       "\n",
       "    .dataframe thead th {\n",
       "        text-align: right;\n",
       "    }\n",
       "</style>\n",
       "<table border=\"1\" class=\"dataframe\">\n",
       "  <thead>\n",
       "    <tr style=\"text-align: right;\">\n",
       "      <th></th>\n",
       "      <th>Proportion de la population mondiale en sous-nutrition en %</th>\n",
       "    </tr>\n",
       "    <tr>\n",
       "      <th>Année</th>\n",
       "      <th></th>\n",
       "    </tr>\n",
       "  </thead>\n",
       "  <tbody>\n",
       "    <tr>\n",
       "      <th>2012-2014</th>\n",
       "      <td>10.64</td>\n",
       "    </tr>\n",
       "  </tbody>\n",
       "</table>\n",
       "</div>"
      ],
      "text/plain": [
       "           Proportion de la population mondiale en sous-nutrition en %\n",
       "Année                                                                 \n",
       "2012-2014                                              10.64          "
      ]
     },
     "execution_count": 5,
     "metadata": {},
     "output_type": "execute_result"
    }
   ],
   "source": [
    "#On convertit nos valeurs en personne\n",
    "data_sous_alimentation[valeur] *= 1000000\n",
    "\n",
    "#On convertit nos valeur en % de la population mondiale\n",
    "data_sous_alimentation[valeur] /= population_mondiale\n",
    "data_sous_alimentation[valeur] *= 100\n",
    "data_sous_alimentation[valeur] = round(data_sous_alimentation[valeur], 2)\n",
    "data_sous_alimentation = data_sous_alimentation.rename(columns = {valeur : pourcent_pop_mondiale_sous_nutrition})\n",
    "data_sous_alimentation = data_sous_alimentation.set_index(annee)\n",
    "data_sous_alimentation.head()"
   ]
  },
  {
   "cell_type": "code",
   "execution_count": 8,
   "id": "5d6e1f3e",
   "metadata": {},
   "outputs": [
    {
     "name": "stdout",
     "output_type": "stream",
     "text": [
      "La proportion de la population mondiale considérée comme étant en sous-nutrition est de :  10.64 %\n"
     ]
    }
   ],
   "source": [
    "#Réponse à la question 10 :\n",
    "print('La proportion de la population mondiale considérée comme étant en sous-nutrition est de : ', data_sous_alimentation[pourcent_pop_mondiale_sous_nutrition][0], '%')\n",
    "#data_sous_alimentation.to_csv('P3_10_données.csv')"
   ]
  },
  {
   "cell_type": "code",
   "execution_count": null,
   "id": "988fd5bb",
   "metadata": {},
   "outputs": [],
   "source": []
  },
  {
   "cell_type": "code",
   "execution_count": null,
   "id": "6f11d1c0",
   "metadata": {},
   "outputs": [],
   "source": []
  }
 ],
 "metadata": {
  "kernelspec": {
   "display_name": "Python 3",
   "language": "python",
   "name": "python3"
  },
  "language_info": {
   "codemirror_mode": {
    "name": "ipython",
    "version": 3
   },
   "file_extension": ".py",
   "mimetype": "text/x-python",
   "name": "python",
   "nbconvert_exporter": "python",
   "pygments_lexer": "ipython3",
   "version": "3.8.8"
  }
 },
 "nbformat": 4,
 "nbformat_minor": 5
}
