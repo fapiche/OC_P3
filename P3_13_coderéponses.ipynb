{
 "cells": [
  {
   "cell_type": "markdown",
   "id": "f9bd730a",
   "metadata": {},
   "source": [
    "# Combien de tonnes de céréales pourraient être libérées si les USA diminuaient leur production de produits animaux de 10% ?"
   ]
  },
  {
   "cell_type": "code",
   "execution_count": 26,
   "id": "80c0a37b",
   "metadata": {},
   "outputs": [],
   "source": [
    "import pandas as pd"
   ]
  },
  {
   "cell_type": "code",
   "execution_count": 27,
   "id": "700fed4f",
   "metadata": {},
   "outputs": [
    {
     "data": {
      "text/plain": [
       "array(['Avoine', 'Blé', 'Céréales, Autres', 'Maïs', 'Millet', 'Orge',\n",
       "       'Riz (Eq Blanchi)', 'Seigle', 'Sorgho'], dtype=object)"
      ]
     },
     "execution_count": 27,
     "metadata": {},
     "output_type": "execute_result"
    }
   ],
   "source": [
    "#On importe et formatte nos données\n",
    "data_cereales = pd.read_csv('fr_cereales.csv')\n",
    "data_vegetaux = pd.read_csv('fr_vegetaux.csv')\n",
    "\n",
    "#On gère nos noms de colonnes via des variables pour faciliter la maintenance du code\n",
    "code_domaine = 'Code Domaine'\n",
    "domaine = 'Domaine'\n",
    "code_zone = \"Code zone\"\n",
    "zone = 'Zone'\n",
    "code_element = 'Code Élément'\n",
    "element = 'Élément'\n",
    "code_produit = 'Code Produit'\n",
    "produit = 'Produit'\n",
    "code_annee = 'Code année'\n",
    "annee = 'Année'\n",
    "unite = 'Unité'\n",
    "valeur = 'Valeur'\n",
    "symbole = 'Symbole'\n",
    "description_symbole = 'Description du Symbole'\n",
    "is_cereale = 'Est une céréale ?'\n",
    "\n",
    "cereales = data_cereales.groupby(produit).sum().reset_index()\n",
    "#On ne garde que les etats unis\n",
    "mask0 = data_vegetaux[code_zone] == 231\n",
    "\n",
    "#On ne garde que les colonnes dont on a besoin\n",
    "data_vegetaux = data_vegetaux.drop([code_domaine, domaine, code_zone, code_element, code_annee, annee, symbole, description_symbole], axis = 1)\n",
    "cereales = cereales[produit].values\n",
    "\n",
    "#On retire les lignes qui ne traite pas de la nourriture animale\n",
    "mask01 = data_vegetaux[element] == 'Aliments pour animaux'\n",
    "data_vegetaux = data_vegetaux[mask0 & mask01]\n",
    "cereales"
   ]
  },
  {
   "cell_type": "code",
   "execution_count": 28,
   "id": "fd5c111c",
   "metadata": {},
   "outputs": [],
   "source": [
    "#Fonction qui détermine si un produit est une céréale et l'indique dans une colonne 'Est une céréales ?'\n",
    "def est_une_cereale(data , cereales) :\n",
    "    data[is_cereale] = False\n",
    "    for z, e, p in zip(data[zone], data[element], data[produit]) :\n",
    "        if p in cereales :\n",
    "            mask1 = data[zone] == z\n",
    "            mask2 = data[element] == e\n",
    "            mask3 = data[produit] == p\n",
    "            data.loc[mask1 & mask2 & mask3, is_cereale] = True\n",
    "    return data"
   ]
  },
  {
   "cell_type": "code",
   "execution_count": 29,
   "id": "800a883e",
   "metadata": {},
   "outputs": [],
   "source": [
    "data_vegetaux = est_une_cereale(data_vegetaux, cereales)\n",
    "data_cereales = data_vegetaux[data_vegetaux[is_cereale] == True]\n",
    "data_cereales = data_cereales.groupby(zone).sum(valeur)\n",
    "cereales = data_cereales[valeur][0]\n",
    "cereales *= 0.1\n",
    "cereales *= 1000"
   ]
  },
  {
   "cell_type": "code",
   "execution_count": 30,
   "id": "f101eb3f",
   "metadata": {},
   "outputs": [
    {
     "name": "stdout",
     "output_type": "stream",
     "text": [
      "Si les USA diminuaient leur production de produits animaux de 10%,  14009600.0  tonnes de céréales pourraient être libérées.\n"
     ]
    }
   ],
   "source": [
    "#Réponse à la question 13\n",
    "print('Si les USA diminuaient leur production de produits animaux de 10%, ', cereales, ' tonnes de céréales pourraient être libérées.')"
   ]
  }
 ],
 "metadata": {
  "kernelspec": {
   "display_name": "Python 3",
   "language": "python",
   "name": "python3"
  },
  "language_info": {
   "codemirror_mode": {
    "name": "ipython",
    "version": 3
   },
   "file_extension": ".py",
   "mimetype": "text/x-python",
   "name": "python",
   "nbconvert_exporter": "python",
   "pygments_lexer": "ipython3",
   "version": "3.8.8"
  }
 },
 "nbformat": 4,
 "nbformat_minor": 5
}
