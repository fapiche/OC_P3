{
 "cells": [
  {
   "cell_type": "markdown",
   "id": "dc7d87f0",
   "metadata": {},
   "source": [
    "# En Thaïlande, quelle proportion de manioc est exportée ? Quelle est la proportion de personnes en sous-nutrition?"
   ]
  },
  {
   "cell_type": "code",
   "execution_count": 75,
   "id": "0c49e099",
   "metadata": {},
   "outputs": [],
   "source": [
    "import pandas as pd"
   ]
  },
  {
   "cell_type": "code",
   "execution_count": 76,
   "id": "1e15258a",
   "metadata": {},
   "outputs": [],
   "source": [
    "#On importe et formatte nos données\n",
    "data_population = pd.read_csv('fr_population.csv')\n",
    "data_sous_alimentation = pd.read_csv('fr_sousalimentation.csv')\n",
    "data_vegetaux = pd.read_csv('fr_vegetaux.csv')\n",
    "\n",
    "#On gère nos noms de colonnes via des variables pour faciliter la maintenance du code\n",
    "code_domaine = 'Code Domaine'\n",
    "domaine = 'Domaine'\n",
    "code_zone = \"Code zone\"\n",
    "zone = 'Zone'\n",
    "code_element = 'Code Élément'\n",
    "element = 'Élément'\n",
    "code_produit = 'Code Produit'\n",
    "produit = 'Produit'\n",
    "code_annee = 'Code année'\n",
    "annee = 'Année'\n",
    "unite = 'Unité'\n",
    "valeur = 'Valeur'\n",
    "symbole = 'Symbole'\n",
    "description_symbole = 'Description du Symbole'\n",
    "\n",
    "mask0 = data_population[code_zone] == 216\n",
    "mask01 = data_sous_alimentation[code_zone] == 216\n",
    "mask02 = data_vegetaux[code_zone] == 216\n",
    "mask03 = data_vegetaux[produit] == 'Manioc'\n",
    "mask04 = data_sous_alimentation[annee] == '2012-2014'\n",
    "#On ne garde que les colonnes dont on a besoin\n",
    "data_vegetaux = data_vegetaux.drop([code_domaine, domaine, code_zone, code_element, code_annee, annee, symbole, description_symbole], axis = 1)\n",
    "\n",
    "#On ne garde que les lignes qui nous interessent\n",
    "data_population = data_population[mask0]\n",
    "data_sous_alimentation =data_sous_alimentation[mask01 & mask04]\n",
    "data_vegetaux = data_vegetaux[mask02 & mask03]\n"
   ]
  },
  {
   "cell_type": "code",
   "execution_count": 77,
   "id": "362e10d7",
   "metadata": {},
   "outputs": [
    {
     "data": {
      "text/html": [
       "<div>\n",
       "<style scoped>\n",
       "    .dataframe tbody tr th:only-of-type {\n",
       "        vertical-align: middle;\n",
       "    }\n",
       "\n",
       "    .dataframe tbody tr th {\n",
       "        vertical-align: top;\n",
       "    }\n",
       "\n",
       "    .dataframe thead th {\n",
       "        text-align: right;\n",
       "    }\n",
       "</style>\n",
       "<table border=\"1\" class=\"dataframe\">\n",
       "  <thead>\n",
       "    <tr style=\"text-align: right;\">\n",
       "      <th></th>\n",
       "      <th>Zone</th>\n",
       "      <th>Élément</th>\n",
       "      <th>Code Produit</th>\n",
       "      <th>Produit</th>\n",
       "      <th>Unité</th>\n",
       "      <th>Valeur</th>\n",
       "    </tr>\n",
       "  </thead>\n",
       "  <tbody>\n",
       "    <tr>\n",
       "      <th>96398</th>\n",
       "      <td>Thaïlande</td>\n",
       "      <td>Production</td>\n",
       "      <td>2532</td>\n",
       "      <td>Manioc</td>\n",
       "      <td>Milliers de tonnes</td>\n",
       "      <td>30228.0</td>\n",
       "    </tr>\n",
       "    <tr>\n",
       "      <th>96399</th>\n",
       "      <td>Thaïlande</td>\n",
       "      <td>Importations - Quantité</td>\n",
       "      <td>2532</td>\n",
       "      <td>Manioc</td>\n",
       "      <td>Milliers de tonnes</td>\n",
       "      <td>1250.0</td>\n",
       "    </tr>\n",
       "    <tr>\n",
       "      <th>96400</th>\n",
       "      <td>Thaïlande</td>\n",
       "      <td>Variation de stock</td>\n",
       "      <td>2532</td>\n",
       "      <td>Manioc</td>\n",
       "      <td>Milliers de tonnes</td>\n",
       "      <td>0.0</td>\n",
       "    </tr>\n",
       "    <tr>\n",
       "      <th>96401</th>\n",
       "      <td>Thaïlande</td>\n",
       "      <td>Exportations - Quantité</td>\n",
       "      <td>2532</td>\n",
       "      <td>Manioc</td>\n",
       "      <td>Milliers de tonnes</td>\n",
       "      <td>25214.0</td>\n",
       "    </tr>\n",
       "    <tr>\n",
       "      <th>96402</th>\n",
       "      <td>Thaïlande</td>\n",
       "      <td>Disponibilité intérieure</td>\n",
       "      <td>2532</td>\n",
       "      <td>Manioc</td>\n",
       "      <td>Milliers de tonnes</td>\n",
       "      <td>6264.0</td>\n",
       "    </tr>\n",
       "  </tbody>\n",
       "</table>\n",
       "</div>"
      ],
      "text/plain": [
       "            Zone                   Élément  Code Produit Produit  \\\n",
       "96398  Thaïlande                Production          2532  Manioc   \n",
       "96399  Thaïlande   Importations - Quantité          2532  Manioc   \n",
       "96400  Thaïlande        Variation de stock          2532  Manioc   \n",
       "96401  Thaïlande   Exportations - Quantité          2532  Manioc   \n",
       "96402  Thaïlande  Disponibilité intérieure          2532  Manioc   \n",
       "\n",
       "                    Unité   Valeur  \n",
       "96398  Milliers de tonnes  30228.0  \n",
       "96399  Milliers de tonnes   1250.0  \n",
       "96400  Milliers de tonnes      0.0  \n",
       "96401  Milliers de tonnes  25214.0  \n",
       "96402  Milliers de tonnes   6264.0  "
      ]
     },
     "execution_count": 77,
     "metadata": {},
     "output_type": "execute_result"
    }
   ],
   "source": [
    "data_vegetaux.head(5)"
   ]
  },
  {
   "cell_type": "code",
   "execution_count": 78,
   "id": "20cfd247",
   "metadata": {},
   "outputs": [],
   "source": [
    "#Fonction qui permet de calculer la proportion de manioc exportée en Thailande\n",
    "def calculer_proportion_export_manioc(data) :\n",
    "    prod = data[data[element] == 'Production'][valeur].values\n",
    "    prod = prod[0]\n",
    "    export = data[data[element] == 'Exportations - Quantité'][valeur].values\n",
    "    export = export[0]\n",
    "    ratio = round((export / prod) * 100, 2)\n",
    "    return ratio"
   ]
  },
  {
   "cell_type": "code",
   "execution_count": 79,
   "id": "73bb30ce",
   "metadata": {},
   "outputs": [],
   "source": [
    "#Fonction qui permet de calculer la proportion de la population qui est en sous nutrition en Thailande\n",
    "def calculer_proportion_sous_alim(data1, data2) :\n",
    "    data1 = data1[valeur].values\n",
    "    data1 = data1[0] * 1000\n",
    "    data2 = data2[valeur].values\n",
    "    data2 = float(data2[0]) * 1000000\n",
    "    ratio = round((data2 / data1) * 100, 2)\n",
    "    return ratio"
   ]
  },
  {
   "cell_type": "code",
   "execution_count": 80,
   "id": "f8abfd1a",
   "metadata": {},
   "outputs": [
    {
     "data": {
      "text/plain": [
       "83.41"
      ]
     },
     "execution_count": 80,
     "metadata": {},
     "output_type": "execute_result"
    }
   ],
   "source": [
    "ratio_export_prod = calculer_proportion_export_manioc(data_vegetaux)\n",
    "ratio_export_prod"
   ]
  },
  {
   "cell_type": "code",
   "execution_count": 81,
   "id": "cf455073",
   "metadata": {},
   "outputs": [
    {
     "data": {
      "text/plain": [
       "8.36"
      ]
     },
     "execution_count": 81,
     "metadata": {},
     "output_type": "execute_result"
    }
   ],
   "source": [
    "ratio_pop_sous_alim = calculer_proportion_sous_alim(data_population, data_sous_alimentation)\n",
    "ratio_pop_sous_alim"
   ]
  },
  {
   "cell_type": "code",
   "execution_count": 82,
   "id": "57e93b56",
   "metadata": {},
   "outputs": [
    {
     "name": "stdout",
     "output_type": "stream",
     "text": [
      "En Thaïlande, la proportion de manioc est exportée est de  83.41 % et la proportion de personnes en sous-nutrition est de  8.36 %\n"
     ]
    }
   ],
   "source": [
    "#Réponses question 14 :\n",
    "print('En Thaïlande, la proportion de manioc est exportée est de ', ratio_export_prod, '% et la proportion de personnes en sous-nutrition est de ', ratio_pop_sous_alim, '%')"
   ]
  }
 ],
 "metadata": {
  "kernelspec": {
   "display_name": "Python 3",
   "language": "python",
   "name": "python3"
  },
  "language_info": {
   "codemirror_mode": {
    "name": "ipython",
    "version": 3
   },
   "file_extension": ".py",
   "mimetype": "text/x-python",
   "name": "python",
   "nbconvert_exporter": "python",
   "pygments_lexer": "ipython3",
   "version": "3.8.8"
  }
 },
 "nbformat": 4,
 "nbformat_minor": 5
}
