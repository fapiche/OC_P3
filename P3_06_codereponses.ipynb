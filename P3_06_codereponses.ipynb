{
 "cells": [
  {
   "cell_type": "markdown",
   "id": "2a20d5e9",
   "metadata": {},
   "source": [
    "# Disponibilité mondiale des produits végétaux en kcal/kg"
   ]
  },
  {
   "cell_type": "code",
   "execution_count": 8,
   "id": "cc062c32",
   "metadata": {},
   "outputs": [],
   "source": [
    "import pandas as pd"
   ]
  },
  {
   "cell_type": "code",
   "execution_count": 9,
   "id": "57537557",
   "metadata": {},
   "outputs": [
    {
     "data": {
      "text/plain": [
       "(104011, 5)"
      ]
     },
     "execution_count": 9,
     "metadata": {},
     "output_type": "execute_result"
    }
   ],
   "source": [
    "#Récupération des données utiles\n",
    "data_population = pd.read_csv('fr_population.csv')\n",
    "data_vegetaux = pd.read_csv('fr_vegetaux.csv')\n",
    "\n",
    "#On gère nos noms de colonnes via des variables pour faciliter la maintenance du code\n",
    "code_zone = \"Code zone\"\n",
    "zone = 'Zone'\n",
    "valeur = 'Valeur'\n",
    "element = \"Élément\"\n",
    "code_domaine = 'Code Domaine'\n",
    "domaine = 'Domaine'\n",
    "code_element = 'Code Élément'\n",
    "code_produit = 'Code Produit'\n",
    "produit = 'Produit'\n",
    "code_annee = 'Code année'\n",
    "annee = 'Année'\n",
    "symbole = 'Symbole'\n",
    "description_symbole = 'Description du Symbole'\n",
    "unite = 'Unité'\n",
    "energie_poids = 'Ratio énergie/poids en Kcal/Kg'\n",
    "valeur_kg = 'Valeur en kg'\n",
    "energie_poids_dispo_int = 'Ratio énergie/poids pour la disponibilité intérieure en kcal/kg '\n",
    "\n",
    "data_population = data_population[data_population[code_zone] != 351]\n",
    "data_vegetaux = data_vegetaux[data_vegetaux[code_zone] != 351]\n",
    "data_vegetaux = data_vegetaux.drop([code_zone, code_element, code_domaine, domaine, code_produit, code_annee, annee, symbole, description_symbole], axis = 1)\n",
    "data_vegetaux.shape"
   ]
  },
  {
   "cell_type": "code",
   "execution_count": 10,
   "id": "f0aed85a",
   "metadata": {},
   "outputs": [],
   "source": [
    "#Fonction qui récupère la population d'un pays donné\n",
    "def recup_pop(pays) :\n",
    "    pop = data_population[data_population[zone] == pays][valeur].values\n",
    "    pop = int(pop * 1000)\n",
    "    return pop"
   ]
  },
  {
   "cell_type": "code",
   "execution_count": 11,
   "id": "fe45d411",
   "metadata": {},
   "outputs": [],
   "source": [
    "#Fonction qui permet de calculer le ratio energie/poids d'un produit dans un pays\n",
    "def calculer_energie_poids(data) :\n",
    "    data_ratio_values = []\n",
    "    mask1 = data[element] == 'Nourriture'\n",
    "    mask3 = data[element] == 'Disponibilité alimentaire (Kcal/personne/jour)'\n",
    "    data = data[mask1 | mask3]\n",
    "    kg = 0\n",
    "    kcal = 0\n",
    "    for z, p, u, v in zip(data[zone], data[produit], data[unite], data[valeur]) :\n",
    "        div = False\n",
    "        if u == 'Milliers de tonnes' :\n",
    "            kg = v * 1000000\n",
    "        else :\n",
    "            kcal = v\n",
    "            div = True\n",
    "        if div == True :\n",
    "            if kg == 0 :\n",
    "                ratio = 0\n",
    "            else :\n",
    "                pop = recup_pop(z)\n",
    "                kcal *= pop * 365\n",
    "                ratio = round((kcal / kg), 2)\n",
    "                ratio_values =  [z, p, ratio]\n",
    "                data_ratio_values.append(ratio_values)\n",
    "    data_ratio = pd.DataFrame(data_ratio_values, columns = [zone, produit, energie_poids])\n",
    "    return data_ratio"
   ]
  },
  {
   "cell_type": "code",
   "execution_count": 12,
   "id": "17c805bf",
   "metadata": {},
   "outputs": [],
   "source": [
    "#Fonction qui récupère la disponibilité intérieure mondiale de chaque produit en kg\n",
    "def recuperer_dispo_int(data) :\n",
    "    mask1 = data[element] == 'Disponibilité intérieure'\n",
    "    mask2 = data[valeur] >0\n",
    "    data.loc[:,valeur] *= 1000000\n",
    "    data = data[mask1 & mask2]\n",
    "    data = data.rename(columns = {valeur : valeur_kg})\n",
    "    data = data.groupby(produit).sum(valeur_kg).reset_index()\n",
    "    return data"
   ]
  },
  {
   "cell_type": "code",
   "execution_count": 13,
   "id": "84f78b93",
   "metadata": {},
   "outputs": [],
   "source": [
    "#Fonction qui calcul le ratio kcal/disponibilité intérieure mondiale\n",
    "def calculer_ratio_kcal_dispo_int(data1, data2) :\n",
    "    #On compare nos dataframe et on supprime les produits dont des données manquent \n",
    "    data_1_len = len(data1)\n",
    "    data_2_len = len(data2)\n",
    "    col1 = data1.columns.values\n",
    "    col2 = data2.columns.values\n",
    "    kcal_dispo_int = []\n",
    "    #On retire les lignes non renseignées dans les 2 dataframe\n",
    "    if data_1_len > data_2_len :\n",
    "        for p in data1[produit] :\n",
    "            data3 = data2[data2[produit] == p]\n",
    "            z = len(data3)\n",
    "            if z == 0 :\n",
    "                data1 = data1[data1[produit] != p]\n",
    "            else :\n",
    "                prod = data1[data1[produit] == p]\n",
    "                kcal_kg = prod[col1[1]].values * float (data3[col2[1]].values)\n",
    "                ratio_values = [p, round(kcal_kg, 2)]\n",
    "                kcal_dispo_int.append(ratio_values)\n",
    "    else :\n",
    "        for p in data2[produit] :\n",
    "            data3 = data1[data1[produit] == p]\n",
    "            z = len(data3)\n",
    "            if z == 0 :\n",
    "                data2 = data2[data2[produit] != p]\n",
    "            else :\n",
    "                prod = data2[data2[produit] == p]\n",
    "                kcal_kg = float (prod[col2[1]].values) * float (data3[col1[1]].values)\n",
    "                ratio_values = [p, round(kcal_kg, 2)]\n",
    "                kcal_dispo_int.append(ratio_values)\n",
    "    data1 = pd.DataFrame(kcal_dispo_int, columns = [produit, energie_poids_dispo_int]).set_index(produit)\n",
    "    donnee = data1.sum()\n",
    "    donnee = data1.sum()\n",
    "    donnee = donnee[0]\n",
    "    return donnee"
   ]
  },
  {
   "cell_type": "code",
   "execution_count": 14,
   "id": "20da067a",
   "metadata": {},
   "outputs": [
    {
     "data": {
      "text/html": [
       "<div>\n",
       "<style scoped>\n",
       "    .dataframe tbody tr th:only-of-type {\n",
       "        vertical-align: middle;\n",
       "    }\n",
       "\n",
       "    .dataframe tbody tr th {\n",
       "        vertical-align: top;\n",
       "    }\n",
       "\n",
       "    .dataframe thead th {\n",
       "        text-align: right;\n",
       "    }\n",
       "</style>\n",
       "<table border=\"1\" class=\"dataframe\">\n",
       "  <thead>\n",
       "    <tr style=\"text-align: right;\">\n",
       "      <th></th>\n",
       "      <th>Zone</th>\n",
       "      <th>Produit</th>\n",
       "      <th>Ratio énergie/poids en Kcal/Kg</th>\n",
       "    </tr>\n",
       "  </thead>\n",
       "  <tbody>\n",
       "    <tr>\n",
       "      <th>0</th>\n",
       "      <td>Afghanistan</td>\n",
       "      <td>Blé</td>\n",
       "      <td>3118.77</td>\n",
       "    </tr>\n",
       "    <tr>\n",
       "      <th>1</th>\n",
       "      <td>Afghanistan</td>\n",
       "      <td>Riz (Eq Blanchi)</td>\n",
       "      <td>3725.97</td>\n",
       "    </tr>\n",
       "    <tr>\n",
       "      <th>2</th>\n",
       "      <td>Afghanistan</td>\n",
       "      <td>Orge</td>\n",
       "      <td>3257.74</td>\n",
       "    </tr>\n",
       "    <tr>\n",
       "      <th>3</th>\n",
       "      <td>Afghanistan</td>\n",
       "      <td>Maïs</td>\n",
       "      <td>3081.33</td>\n",
       "    </tr>\n",
       "    <tr>\n",
       "      <th>4</th>\n",
       "      <td>Afghanistan</td>\n",
       "      <td>Millet</td>\n",
       "      <td>2787.87</td>\n",
       "    </tr>\n",
       "  </tbody>\n",
       "</table>\n",
       "</div>"
      ],
      "text/plain": [
       "          Zone           Produit  Ratio énergie/poids en Kcal/Kg\n",
       "0  Afghanistan               Blé                         3118.77\n",
       "1  Afghanistan  Riz (Eq Blanchi)                         3725.97\n",
       "2  Afghanistan              Orge                         3257.74\n",
       "3  Afghanistan              Maïs                         3081.33\n",
       "4  Afghanistan            Millet                         2787.87"
      ]
     },
     "execution_count": 14,
     "metadata": {},
     "output_type": "execute_result"
    }
   ],
   "source": [
    "data_ratio_kcal = calculer_energie_poids(data_vegetaux)\n",
    "data_ratio_kcal.head()"
   ]
  },
  {
   "cell_type": "code",
   "execution_count": 15,
   "id": "6857f363",
   "metadata": {},
   "outputs": [
    {
     "data": {
      "text/html": [
       "<div>\n",
       "<style scoped>\n",
       "    .dataframe tbody tr th:only-of-type {\n",
       "        vertical-align: middle;\n",
       "    }\n",
       "\n",
       "    .dataframe tbody tr th {\n",
       "        vertical-align: top;\n",
       "    }\n",
       "\n",
       "    .dataframe thead th {\n",
       "        text-align: right;\n",
       "    }\n",
       "</style>\n",
       "<table border=\"1\" class=\"dataframe\">\n",
       "  <thead>\n",
       "    <tr style=\"text-align: right;\">\n",
       "      <th></th>\n",
       "      <th>Produit</th>\n",
       "      <th>Ratio énergie/poids en Kcal/Kg</th>\n",
       "    </tr>\n",
       "  </thead>\n",
       "  <tbody>\n",
       "    <tr>\n",
       "      <th>0</th>\n",
       "      <td>Agrumes, Autres</td>\n",
       "      <td>90.316765</td>\n",
       "    </tr>\n",
       "    <tr>\n",
       "      <th>1</th>\n",
       "      <td>Aliments pour enfants</td>\n",
       "      <td>3224.621684</td>\n",
       "    </tr>\n",
       "    <tr>\n",
       "      <th>2</th>\n",
       "      <td>Ananas</td>\n",
       "      <td>366.682759</td>\n",
       "    </tr>\n",
       "    <tr>\n",
       "      <th>3</th>\n",
       "      <td>Arachides Decortiquees</td>\n",
       "      <td>5620.249638</td>\n",
       "    </tr>\n",
       "    <tr>\n",
       "      <th>4</th>\n",
       "      <td>Avoine</td>\n",
       "      <td>1892.484894</td>\n",
       "    </tr>\n",
       "  </tbody>\n",
       "</table>\n",
       "</div>"
      ],
      "text/plain": [
       "                  Produit  Ratio énergie/poids en Kcal/Kg\n",
       "0         Agrumes, Autres                       90.316765\n",
       "1   Aliments pour enfants                     3224.621684\n",
       "2                  Ananas                      366.682759\n",
       "3  Arachides Decortiquees                     5620.249638\n",
       "4                  Avoine                     1892.484894"
      ]
     },
     "execution_count": 15,
     "metadata": {},
     "output_type": "execute_result"
    }
   ],
   "source": [
    "#On fait la moyenne du ratio energie/kg pour chaque produit et on les classe de façon décroissante\n",
    "data_ratio_kcal = data_ratio_kcal.groupby(produit).mean(energie_poids).reset_index()\n",
    "data_ratio_kcal.head()"
   ]
  },
  {
   "cell_type": "code",
   "execution_count": 16,
   "id": "dce1b891",
   "metadata": {},
   "outputs": [
    {
     "data": {
      "text/html": [
       "<div>\n",
       "<style scoped>\n",
       "    .dataframe tbody tr th:only-of-type {\n",
       "        vertical-align: middle;\n",
       "    }\n",
       "\n",
       "    .dataframe tbody tr th {\n",
       "        vertical-align: top;\n",
       "    }\n",
       "\n",
       "    .dataframe thead th {\n",
       "        text-align: right;\n",
       "    }\n",
       "</style>\n",
       "<table border=\"1\" class=\"dataframe\">\n",
       "  <thead>\n",
       "    <tr style=\"text-align: right;\">\n",
       "      <th></th>\n",
       "      <th>Produit</th>\n",
       "      <th>Valeur en kg</th>\n",
       "    </tr>\n",
       "  </thead>\n",
       "  <tbody>\n",
       "    <tr>\n",
       "      <th>0</th>\n",
       "      <td>Agrumes, Autres</td>\n",
       "      <td>1.226300e+10</td>\n",
       "    </tr>\n",
       "    <tr>\n",
       "      <th>1</th>\n",
       "      <td>Alcool, non Comestible</td>\n",
       "      <td>2.176900e+10</td>\n",
       "    </tr>\n",
       "    <tr>\n",
       "      <th>2</th>\n",
       "      <td>Aliments pour enfants</td>\n",
       "      <td>7.670000e+08</td>\n",
       "    </tr>\n",
       "    <tr>\n",
       "      <th>3</th>\n",
       "      <td>Ananas</td>\n",
       "      <td>2.328300e+10</td>\n",
       "    </tr>\n",
       "    <tr>\n",
       "      <th>4</th>\n",
       "      <td>Arachides Decortiquees</td>\n",
       "      <td>2.969500e+10</td>\n",
       "    </tr>\n",
       "  </tbody>\n",
       "</table>\n",
       "</div>"
      ],
      "text/plain": [
       "                  Produit  Valeur en kg\n",
       "0         Agrumes, Autres  1.226300e+10\n",
       "1  Alcool, non Comestible  2.176900e+10\n",
       "2   Aliments pour enfants  7.670000e+08\n",
       "3                  Ananas  2.328300e+10\n",
       "4  Arachides Decortiquees  2.969500e+10"
      ]
     },
     "execution_count": 16,
     "metadata": {},
     "output_type": "execute_result"
    }
   ],
   "source": [
    "data_dispo_int = recuperer_dispo_int(data_vegetaux)\n",
    "data_dispo_int.head()"
   ]
  },
  {
   "cell_type": "code",
   "execution_count": 17,
   "id": "b6330eb1",
   "metadata": {},
   "outputs": [],
   "source": [
    "data_ratio_kcal_dispo_int = calculer_ratio_kcal_dispo_int(data_ratio_kcal, data_dispo_int)"
   ]
  },
  {
   "cell_type": "code",
   "execution_count": 20,
   "id": "91d55d01",
   "metadata": {},
   "outputs": [
    {
     "name": "stdout",
     "output_type": "stream",
     "text": [
      "Disponibilité intérieure mondiale en kcal :  1.3032992885918248e+16\n"
     ]
    }
   ],
   "source": [
    "#Disponibilité intérieure mondiale en kcal\n",
    "print('Disponibilité intérieure mondiale en kcal : ', data_ratio_kcal_dispo_int)"
   ]
  },
  {
   "cell_type": "code",
   "execution_count": 19,
   "id": "65cc437a",
   "metadata": {},
   "outputs": [],
   "source": [
    "#data_ratio_kcal.to_csv('Q6_data_ratio_kcal.csv')\n",
    "#data_dispo_int.to_csv('Q6_data_dispo_int.csv')"
   ]
  }
 ],
 "metadata": {
  "kernelspec": {
   "display_name": "Python 3",
   "language": "python",
   "name": "python3"
  },
  "language_info": {
   "codemirror_mode": {
    "name": "ipython",
    "version": 3
   },
   "file_extension": ".py",
   "mimetype": "text/x-python",
   "name": "python",
   "nbconvert_exporter": "python",
   "pygments_lexer": "ipython3",
   "version": "3.8.8"
  }
 },
 "nbformat": 4,
 "nbformat_minor": 5
}
