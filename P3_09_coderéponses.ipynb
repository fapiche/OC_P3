{
 "cells": [
  {
   "cell_type": "markdown",
   "id": "d79eb2f1",
   "metadata": {},
   "source": [
    "# Combien d'humains pourraient être nourris avec la disponibilité alimentaire mondiale ?"
   ]
  },
  {
   "cell_type": "code",
   "execution_count": 1,
   "id": "09b6d7b5",
   "metadata": {},
   "outputs": [],
   "source": [
    "import pandas as pd"
   ]
  },
  {
   "cell_type": "code",
   "execution_count": 2,
   "id": "05ec51b7",
   "metadata": {},
   "outputs": [],
   "source": [
    "#Pour déterminé le besoin nutritionnel moyen j'ai fais la moyenne de 32 données tirées des sources communiquées en bas de page.\n",
    "besoin_nutritionnel_moyen_kcal = 2222 * 365\n",
    "besoin_nutritionnel_moyen_prot = round((69.192 * 365), 2)"
   ]
  },
  {
   "cell_type": "code",
   "execution_count": 3,
   "id": "f437aa69",
   "metadata": {},
   "outputs": [
    {
     "data": {
      "text/plain": [
       "(46815, 5)"
      ]
     },
     "execution_count": 3,
     "metadata": {},
     "output_type": "execute_result"
    }
   ],
   "source": [
    "#Récupération des données utiles\n",
    "data_population = pd.read_csv('fr_population.csv')\n",
    "data_vegetaux = pd.read_csv('fr_vegetaux.csv')\n",
    "data_animaux = pd.read_csv('fr_animaux.csv')\n",
    "\n",
    "#On gère nos noms de colonnes via des variables pour faciliter la maintenance du code\n",
    "code_zone = \"Code zone\"\n",
    "zone = 'Zone'\n",
    "valeur = 'Valeur'\n",
    "element = \"Élément\"\n",
    "code_domaine = 'Code Domaine'\n",
    "domaine = 'Domaine'\n",
    "code_element = 'Code Élément'\n",
    "code_produit = 'Code Produit'\n",
    "produit = 'Produit'\n",
    "code_annee = 'Code année'\n",
    "annee = 'Année'\n",
    "symbole = 'Symbole'\n",
    "description_symbole = 'Description du Symbole'\n",
    "unite = 'Unité'\n",
    "energie_poids = 'Ratio énergie/poids en Kcal/Kg'\n",
    "valeur_kg = 'Valeur en kg'\n",
    "energie_poids_dispo_alim = 'Ratio énergie/poids pour la disponibilité alimentaire en kcal/kg '\n",
    "proteines_poids = 'Ratio proteines/poids en g/Kg'\n",
    "proteines_poids_dispo_alim = 'Ratio proteines/poids pour la disponibilité alimentaire en g/kg '\n",
    "\n",
    "#On fusionne nos fichiers vegetaux et animaux en un seul fichier\n",
    "data_vegetaux = data_vegetaux.append(data_animaux, ignore_index= True)\n",
    "#On retire les données qui nous sont inutiles\n",
    "mask0 = data_population[code_zone] != 351\n",
    "mask1 = data_vegetaux[code_zone] != 351\n",
    "mask2 = data_vegetaux[element] == 'Disponibilité de protéines en quantité (g/personne/jour)'\n",
    "mask3 = data_vegetaux[element] == 'Aliments pour animaux'\n",
    "mask4 = data_vegetaux[element] == 'Pertes'\n",
    "mask5 = data_vegetaux[element] == 'Disponibilité alimentaire (Kcal/personne/jour)'\n",
    "mask6 = data_vegetaux[element] == 'Nourriture'\n",
    "\n",
    "data_population = data_population[mask0]\n",
    "data_vegetaux = data_vegetaux[mask1 & (mask2 | mask3 | mask4 | mask5 | mask6)]\n",
    "data_vegetaux = data_vegetaux.drop([code_zone, code_element, code_domaine, domaine, code_produit, code_annee, annee, symbole, description_symbole], axis = 1)\n",
    "data_vegetaux.shape"
   ]
  },
  {
   "cell_type": "code",
   "execution_count": 4,
   "id": "2baee675",
   "metadata": {},
   "outputs": [],
   "source": [
    "#Fonction qui récupère la population d'un pays donné\n",
    "def recup_pop(pays) :\n",
    "    pop = data_population[data_population[zone] == pays][valeur].values\n",
    "    pop = int(pop * 1000)\n",
    "    return pop"
   ]
  },
  {
   "cell_type": "code",
   "execution_count": 5,
   "id": "3a4f8eb2",
   "metadata": {},
   "outputs": [],
   "source": [
    "#fonction qui retourne la disponibilité alimentaire mondiale par produit composée de :la disponibilité alimentaire, la nourriture destinée aux animaux et les pertes en kg\n",
    "def calculer_dispo_alim(data) :\n",
    "    \n",
    "    mask1 = data[element] != 'Disponibilité alimentaire (Kcal/personne/jour)'\n",
    "    mask2 = data[element] != 'Disponibilité de protéines en quantité (g/personne/jour)'\n",
    "    mask3 = data[valeur] != 0\n",
    "    data.loc[ : ,valeur] *= 1000000\n",
    "    #On isole les lignes à traiter\n",
    "    data = data[mask1 & mask2 & mask3]\n",
    "    dispo_alim_mondiale = data.groupby(produit).sum(valeur).reset_index()\n",
    "    return dispo_alim_mondiale"
   ]
  },
  {
   "cell_type": "code",
   "execution_count": 6,
   "id": "ef5fbd56",
   "metadata": {},
   "outputs": [],
   "source": [
    "#Fonction qui permet de calculer le ratio energie/poids d'un produit dans chaque pays\n",
    "def calculer_energie_poids(data) :\n",
    "    data_ratio_values = []\n",
    "    mask1 = data[element] == 'Nourriture'\n",
    "    mask3 = data[element] == 'Disponibilité alimentaire (Kcal/personne/jour)'\n",
    "    data = data[mask1 | mask3]\n",
    "    kg = 0\n",
    "    kcal = 0\n",
    "    for z, p, u, v in zip(data[zone], data[produit], data[unite], data[valeur]) :\n",
    "        div = False\n",
    "        if u == 'Milliers de tonnes' :\n",
    "            kg = v * 1000000\n",
    "        else :\n",
    "            kcal = v\n",
    "            div = True\n",
    "        if div == True :\n",
    "            if kg == 0 :\n",
    "                ratio = 0\n",
    "            else :\n",
    "                pop = recup_pop(z)\n",
    "                kcal *= pop * 365\n",
    "                ratio = round((kcal / kg), 2)\n",
    "                ratio_values =  [z, p, ratio]\n",
    "                data_ratio_values.append(ratio_values)\n",
    "    data_ratio = pd.DataFrame(data_ratio_values, columns = [zone, produit, energie_poids])\n",
    "    data_ratio = data_ratio[data_ratio[energie_poids] != 0]\n",
    "    return data_ratio"
   ]
  },
  {
   "cell_type": "code",
   "execution_count": 7,
   "id": "25222550",
   "metadata": {},
   "outputs": [],
   "source": [
    "#Fonction qui permet de calculer le ratio poids de proteine/poids dans chaque pays\n",
    "def calculer_ratio_proteines(data) :\n",
    "    data_ratio_values = []\n",
    "    mask1 = data[element] == 'Nourriture'\n",
    "    mask3 = data[element] == 'Disponibilité de protéines en quantité (g/personne/jour)'\n",
    "    data = data[mask1 | mask3]\n",
    "    kg = 0\n",
    "    prot = 0\n",
    "    for z, p, u, v in zip(data[zone], data[produit], data[unite], data[valeur]) :\n",
    "        div = False\n",
    "        if u == 'Milliers de tonnes' :\n",
    "            kg = v * 1000000\n",
    "        else :\n",
    "            prot = v /1000\n",
    "            div = True\n",
    "        if div == True :\n",
    "            if kg == 0 :\n",
    "                ratio = 0\n",
    "            else :\n",
    "                pop = recup_pop(z)\n",
    "                prot *= pop * 365\n",
    "                ratio = round(((prot / kg) * 100), 2)\n",
    "                ratio_values =  [z, p, ratio]\n",
    "                data_ratio_values.append(ratio_values)\n",
    "    data_ratio = pd.DataFrame(data_ratio_values, columns = [zone, produit, proteines_poids])\n",
    "    data_ratio = data_ratio[data_ratio[proteines_poids] != 0]\n",
    "    return data_ratio"
   ]
  },
  {
   "cell_type": "code",
   "execution_count": 8,
   "id": "bb0eae6c",
   "metadata": {},
   "outputs": [],
   "source": [
    "#Fonction qui calcul le ratio kcal/disponibilité alimentaire mondiale par produit composée de :la disponibilité alimentaire, la nourriture destinée aux animaux et les pertes en kg\n",
    "def calculer_ratio_kcal_dispo_alim(data1, data2) :\n",
    "    #On compare nos dataframe et on supprime les produits dont des données manquent \n",
    "    data_1_len = len(data1)\n",
    "    data_2_len = len(data2)\n",
    "    col1 = data1.columns.values\n",
    "    col2 = data2.columns.values\n",
    "    kcal_dispo_alim = []\n",
    "    #On retire les lignes non renseignées dans les 2 dataframe\n",
    "    if data_1_len > data_2_len :\n",
    "        for p in data1[produit] :\n",
    "            data3 = data2[data2[produit] == p]\n",
    "            z = len(data3)\n",
    "            if z == 0 :\n",
    "                data1 = data1[data1[produit] != p]\n",
    "            else :\n",
    "                prod = data1[data1[produit] == p]\n",
    "                kcal_kg = prod[col1[1]].values * float (data3[col2[1]].values)\n",
    "                ratio_values = [p, round(kcal_kg, 2)]\n",
    "                kcal_dispo_alim.append(ratio_values)\n",
    "    else :\n",
    "        for p in data2[produit] :\n",
    "            data3 = data1[data1[produit] == p]\n",
    "            z = len(data3)\n",
    "            if z == 0 :\n",
    "                data2 = data2[data2[produit] != p]\n",
    "            else :\n",
    "                prod = data2[data2[produit] == p]\n",
    "                kcal_kg = float (prod[col2[1]].values) * float (data3[col1[1]].values)\n",
    "                ratio_values = [p, round(kcal_kg, 2)]\n",
    "                kcal_dispo_alim.append(ratio_values)\n",
    "    data1 = pd.DataFrame(kcal_dispo_alim, columns = [produit, energie_poids_dispo_alim]).set_index(produit)\n",
    "    donnee = data1.sum()\n",
    "    donnee = donnee[0]\n",
    "    return donnee"
   ]
  },
  {
   "cell_type": "code",
   "execution_count": 9,
   "id": "2b1cc2f8",
   "metadata": {},
   "outputs": [],
   "source": [
    "#Fonction qui calcul le ratio proteine/disponibilité mondiale par produit composée de :la disponibilité alimentaire, la nourriture destinée aux animaux et les pertes en kg\n",
    "def calculer_ratio_prot_dispo_alim(data1, data2) :\n",
    "    #On compare nos dataframe et on supprime les produits dont des données manquent \n",
    "    data_1_len = len(data1)\n",
    "    data_2_len = len(data2)\n",
    "    col1 = data1.columns.values\n",
    "    col2 = data2.columns.values\n",
    "    prot_dispo_alim = []\n",
    "    #On retire les lignes non renseignées dans l'un des 2 dataframes\n",
    "    if data_1_len > data_2_len :\n",
    "        for p in data1[produit] :\n",
    "            data3 = data2[data2[produit] == p]\n",
    "            z = len(data3)\n",
    "            if z == 0 :\n",
    "                data1 = data1[data1[produit] != p]\n",
    "            else :\n",
    "                prod = data1[data1[produit] == p]\n",
    "                prot_kg = prod[col1[1]].values * float (data3[col2[1]].values)\n",
    "                ratio_values = [p, round(prot_kg, 2)]\n",
    "                prot_dispo_alim.append(ratio_values)\n",
    "    else :\n",
    "        for p in data2[produit] :\n",
    "            data3 = data1[data1[produit] == p]\n",
    "            z = len(data3)\n",
    "            if z == 0 :\n",
    "                data2 = data2[data2[produit] != p]\n",
    "            else :\n",
    "                prod = data2[data2[produit] == p]\n",
    "                prot_kg = float (prod[col2[1]].values) * float (data3[col1[1]].values)\n",
    "                ratio_values = [p, round(prot_kg, 2)]\n",
    "                prot_dispo_alim.append(ratio_values)\n",
    "    data1 = pd.DataFrame(prot_dispo_alim, columns = [produit, proteines_poids_dispo_alim]).set_index(produit)\n",
    "    donnee = data1.sum()\n",
    "    donnee = donnee[0]\n",
    "    return donnee"
   ]
  },
  {
   "cell_type": "code",
   "execution_count": 10,
   "id": "9a0bf36a",
   "metadata": {},
   "outputs": [],
   "source": [
    "population_mondiale = data_population[valeur].sum() * 1000"
   ]
  },
  {
   "cell_type": "code",
   "execution_count": 11,
   "id": "ba9ca7e6",
   "metadata": {},
   "outputs": [
    {
     "data": {
      "text/html": [
       "<div>\n",
       "<style scoped>\n",
       "    .dataframe tbody tr th:only-of-type {\n",
       "        vertical-align: middle;\n",
       "    }\n",
       "\n",
       "    .dataframe tbody tr th {\n",
       "        vertical-align: top;\n",
       "    }\n",
       "\n",
       "    .dataframe thead th {\n",
       "        text-align: right;\n",
       "    }\n",
       "</style>\n",
       "<table border=\"1\" class=\"dataframe\">\n",
       "  <thead>\n",
       "    <tr style=\"text-align: right;\">\n",
       "      <th></th>\n",
       "      <th>Produit</th>\n",
       "      <th>Ratio énergie/poids en Kcal/Kg</th>\n",
       "    </tr>\n",
       "  </thead>\n",
       "  <tbody>\n",
       "    <tr>\n",
       "      <th>0</th>\n",
       "      <td>Abats Comestible</td>\n",
       "      <td>1129.258261</td>\n",
       "    </tr>\n",
       "    <tr>\n",
       "      <th>1</th>\n",
       "      <td>Agrumes, Autres</td>\n",
       "      <td>248.981351</td>\n",
       "    </tr>\n",
       "    <tr>\n",
       "      <th>2</th>\n",
       "      <td>Aliments pour enfants</td>\n",
       "      <td>3690.832048</td>\n",
       "    </tr>\n",
       "    <tr>\n",
       "      <th>3</th>\n",
       "      <td>Ananas</td>\n",
       "      <td>439.413223</td>\n",
       "    </tr>\n",
       "    <tr>\n",
       "      <th>4</th>\n",
       "      <td>Animaux Aquatiques Autre</td>\n",
       "      <td>666.357500</td>\n",
       "    </tr>\n",
       "  </tbody>\n",
       "</table>\n",
       "</div>"
      ],
      "text/plain": [
       "                    Produit  Ratio énergie/poids en Kcal/Kg\n",
       "0          Abats Comestible                     1129.258261\n",
       "1           Agrumes, Autres                      248.981351\n",
       "2     Aliments pour enfants                     3690.832048\n",
       "3                    Ananas                      439.413223\n",
       "4  Animaux Aquatiques Autre                      666.357500"
      ]
     },
     "execution_count": 11,
     "metadata": {},
     "output_type": "execute_result"
    }
   ],
   "source": [
    "data_ratio_kcal = calculer_energie_poids(data_vegetaux)\n",
    "data_ratio_kcal_total = data_ratio_kcal.groupby(produit).mean(valeur).reset_index()\n",
    "data_ratio_kcal_total.head()"
   ]
  },
  {
   "cell_type": "code",
   "execution_count": 12,
   "id": "86895908",
   "metadata": {},
   "outputs": [
    {
     "data": {
      "text/html": [
       "<div>\n",
       "<style scoped>\n",
       "    .dataframe tbody tr th:only-of-type {\n",
       "        vertical-align: middle;\n",
       "    }\n",
       "\n",
       "    .dataframe tbody tr th {\n",
       "        vertical-align: top;\n",
       "    }\n",
       "\n",
       "    .dataframe thead th {\n",
       "        text-align: right;\n",
       "    }\n",
       "</style>\n",
       "<table border=\"1\" class=\"dataframe\">\n",
       "  <thead>\n",
       "    <tr style=\"text-align: right;\">\n",
       "      <th></th>\n",
       "      <th>Produit</th>\n",
       "      <th>Ratio proteines/poids en g/Kg</th>\n",
       "    </tr>\n",
       "  </thead>\n",
       "  <tbody>\n",
       "    <tr>\n",
       "      <th>0</th>\n",
       "      <td>Abats Comestible</td>\n",
       "      <td>17.561491</td>\n",
       "    </tr>\n",
       "    <tr>\n",
       "      <th>1</th>\n",
       "      <td>Agrumes, Autres</td>\n",
       "      <td>0.443191</td>\n",
       "    </tr>\n",
       "    <tr>\n",
       "      <th>2</th>\n",
       "      <td>Aliments pour enfants</td>\n",
       "      <td>14.883191</td>\n",
       "    </tr>\n",
       "    <tr>\n",
       "      <th>3</th>\n",
       "      <td>Ananas</td>\n",
       "      <td>0.307431</td>\n",
       "    </tr>\n",
       "    <tr>\n",
       "      <th>4</th>\n",
       "      <td>Animaux Aquatiques Autre</td>\n",
       "      <td>3.888000</td>\n",
       "    </tr>\n",
       "  </tbody>\n",
       "</table>\n",
       "</div>"
      ],
      "text/plain": [
       "                    Produit  Ratio proteines/poids en g/Kg\n",
       "0          Abats Comestible                      17.561491\n",
       "1           Agrumes, Autres                       0.443191\n",
       "2     Aliments pour enfants                      14.883191\n",
       "3                    Ananas                       0.307431\n",
       "4  Animaux Aquatiques Autre                       3.888000"
      ]
     },
     "execution_count": 12,
     "metadata": {},
     "output_type": "execute_result"
    }
   ],
   "source": [
    "data_ratio_proteines = calculer_ratio_proteines(data_vegetaux)\n",
    "data_ratio_proteines_total = data_ratio_proteines.groupby(produit).mean(valeur).reset_index()\n",
    "data_ratio_proteines_total.head()"
   ]
  },
  {
   "cell_type": "code",
   "execution_count": 13,
   "id": "e1bd8476",
   "metadata": {},
   "outputs": [
    {
     "data": {
      "text/html": [
       "<div>\n",
       "<style scoped>\n",
       "    .dataframe tbody tr th:only-of-type {\n",
       "        vertical-align: middle;\n",
       "    }\n",
       "\n",
       "    .dataframe tbody tr th {\n",
       "        vertical-align: top;\n",
       "    }\n",
       "\n",
       "    .dataframe thead th {\n",
       "        text-align: right;\n",
       "    }\n",
       "</style>\n",
       "<table border=\"1\" class=\"dataframe\">\n",
       "  <thead>\n",
       "    <tr style=\"text-align: right;\">\n",
       "      <th></th>\n",
       "      <th>Produit</th>\n",
       "      <th>Valeur</th>\n",
       "    </tr>\n",
       "  </thead>\n",
       "  <tbody>\n",
       "    <tr>\n",
       "      <th>0</th>\n",
       "      <td>Abats Comestible</td>\n",
       "      <td>1.675100e+10</td>\n",
       "    </tr>\n",
       "    <tr>\n",
       "      <th>1</th>\n",
       "      <td>Agrumes, Autres</td>\n",
       "      <td>1.216900e+10</td>\n",
       "    </tr>\n",
       "    <tr>\n",
       "      <th>2</th>\n",
       "      <td>Aliments pour enfants</td>\n",
       "      <td>7.620000e+08</td>\n",
       "    </tr>\n",
       "    <tr>\n",
       "      <th>3</th>\n",
       "      <td>Ananas</td>\n",
       "      <td>2.350200e+10</td>\n",
       "    </tr>\n",
       "    <tr>\n",
       "      <th>4</th>\n",
       "      <td>Animaux Aquatiques Autre</td>\n",
       "      <td>1.249000e+09</td>\n",
       "    </tr>\n",
       "  </tbody>\n",
       "</table>\n",
       "</div>"
      ],
      "text/plain": [
       "                    Produit        Valeur\n",
       "0          Abats Comestible  1.675100e+10\n",
       "1           Agrumes, Autres  1.216900e+10\n",
       "2     Aliments pour enfants  7.620000e+08\n",
       "3                    Ananas  2.350200e+10\n",
       "4  Animaux Aquatiques Autre  1.249000e+09"
      ]
     },
     "execution_count": 13,
     "metadata": {},
     "output_type": "execute_result"
    }
   ],
   "source": [
    "dispo_alim = calculer_dispo_alim(data_vegetaux)\n",
    "dispo_alim.head()"
   ]
  },
  {
   "cell_type": "code",
   "execution_count": 14,
   "id": "5603ad4e",
   "metadata": {},
   "outputs": [],
   "source": [
    "#Disponibilité alimentaire mondiale en énergie kcal\n",
    "ratio_kcal_dispo_alim_mondial = calculer_ratio_kcal_dispo_alim(data_ratio_kcal_total, dispo_alim)"
   ]
  },
  {
   "cell_type": "code",
   "execution_count": 15,
   "id": "ddd3101a",
   "metadata": {},
   "outputs": [],
   "source": [
    "#Disponibilité alimentaire mondiale en proteine g/kg\n",
    "ratio_proteines_dispo_alim_mondial = calculer_ratio_prot_dispo_alim(data_ratio_proteines_total, dispo_alim)"
   ]
  },
  {
   "cell_type": "code",
   "execution_count": 16,
   "id": "a7c8c22f",
   "metadata": {},
   "outputs": [],
   "source": [
    "#Nombre d'humain qui pourraient être nourris avec la disponibilité intérieure en énergie\n",
    "humains_nourri_dispo_alim_kcal = int(ratio_kcal_dispo_alim_mondial / besoin_nutritionnel_moyen_kcal)\n",
    "humains_nourri_dispo_alim_kcal_pourcent = round((humains_nourri_dispo_alim_kcal / population_mondiale) * 100, 2)"
   ]
  },
  {
   "cell_type": "code",
   "execution_count": 17,
   "id": "a50f9f6c",
   "metadata": {},
   "outputs": [],
   "source": [
    "#Nombre d'humain qui pourraient être nourris avec la disponibilité intérieure en proteines\n",
    "humains_nourri_dispo_alim_proteines = int (ratio_proteines_dispo_alim_mondial / besoin_nutritionnel_moyen_prot)\n",
    "humains_nourri_dispo_alim_proteines_pourcent = round((humains_nourri_dispo_alim_proteines / population_mondiale) * 100, 2)"
   ]
  },
  {
   "cell_type": "code",
   "execution_count": 18,
   "id": "05830faa",
   "metadata": {},
   "outputs": [
    {
     "name": "stdout",
     "output_type": "stream",
     "text": [
      "Combien d'humains pourraient être nourris si toute la disponibilité alimentaire était utilisés pour de la nourriture ?\n",
      " - D'un point de vue énergétique :  13431975392  soit :  191.96 %\n",
      " - D'un point de vue protéines :  1195419382  soit :  17.08 %\n"
     ]
    }
   ],
   "source": [
    "#Réponses question 9 :\n",
    "print(\"Combien d'humains pourraient être nourris si toute la disponibilité alimentaire était utilisés pour de la nourriture ?\")\n",
    "print(\" - D'un point de vue énergétique : \", humains_nourri_dispo_alim_kcal, \" soit : \", humains_nourri_dispo_alim_kcal_pourcent, \"%\")\n",
    "print(\" - D'un point de vue protéines : \", humains_nourri_dispo_alim_proteines, \" soit : \", humains_nourri_dispo_alim_proteines_pourcent, \"%\")"
   ]
  },
  {
   "cell_type": "raw",
   "id": "e3bae2f0",
   "metadata": {},
   "source": [
    "sources : \n",
    "- http://campus.cerimes.fr/hepato-gastro-enterologie/enseignement/item110/site/html/1.html#:~:text=Dans%20les%20conditions%20habituelles%20de,besoins%20doivent%20couvrir%20ces%20d%C3%A9penses\n",
    "- https://www.sante-sur-le-net.com/nutrition-bien-etre/nutrition/besoins-energetiques/\n",
    "- https://www.anses.fr/fr/system/files/NUT2012SA0103Ra-2.pdf\n",
    "- https://www.anses.fr/fr/content/les-prot%C3%A9ines#:~:text=Les%20recommandations%20de%20l'Agence,%C3%A9nerg%C3%A9tique%20total%20(AET)%20quotidien\n",
    "- https://www.futura-sciences.com/sante/actualites/biologie-obesite-humanite-pese-287-millions-tonnes-185-excedent-39459/"
   ]
  }
 ],
 "metadata": {
  "kernelspec": {
   "display_name": "Python 3",
   "language": "python",
   "name": "python3"
  },
  "language_info": {
   "codemirror_mode": {
    "name": "ipython",
    "version": 3
   },
   "file_extension": ".py",
   "mimetype": "text/x-python",
   "name": "python",
   "nbconvert_exporter": "python",
   "pygments_lexer": "ipython3",
   "version": "3.8.8"
  }
 },
 "nbformat": 4,
 "nbformat_minor": 5
}
