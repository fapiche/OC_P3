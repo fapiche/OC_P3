{
 "cells": [
  {
   "cell_type": "markdown",
   "id": "4f4c2f74",
   "metadata": {},
   "source": [
    "# Identifiez ces redondances"
   ]
  },
  {
   "cell_type": "raw",
   "id": "6d0a97fd",
   "metadata": {},
   "source": [
    "On va vérifier que notre équation est correcte au travers d'un exemple concret\n",
    "\n",
    "équation : \n",
    "\n",
    "Disponibilité intérieure = Aliment pour animaux + semences + Pertes + Traitement + Autres utilisations ( non alimentaire ) + Nourriture = Production + Importations - Quantité + Variation de stock - Exportations - Quantité\n"
   ]
  },
  {
   "cell_type": "code",
   "execution_count": 1,
   "id": "1822e01e",
   "metadata": {},
   "outputs": [
    {
     "data": {
      "text/plain": [
       "(104011, 14)"
      ]
     },
     "execution_count": 1,
     "metadata": {},
     "output_type": "execute_result"
    }
   ],
   "source": [
    "import pandas as pd\n",
    "from enum import Enum\n",
    "\n",
    "data = pd.read_csv('fr_vegetaux.csv')\n",
    "\n",
    "code_domaine = 'Code Domaine'\n",
    "domaine = 'Domaine'\n",
    "code_zone = 'Code zone'\n",
    "zone = 'Zone'\n",
    "code_element = 'Code Élément'\n",
    "element = 'Élément'\n",
    "code_element = 'Code Produit'\n",
    "produit = 'Produit'\n",
    "code_annee = 'Code année'\n",
    "annee = 'Année'\n",
    "unite = 'Unité'\n",
    "valeur = 'Valeur'\n",
    "symbole = 'Symbole'\n",
    "description_symbole = 'Description du Symbole'\n",
    "\n",
    "data = data[data[code_zone] != 351]\n",
    "\n",
    "data.shape"
   ]
  },
  {
   "cell_type": "code",
   "execution_count": 2,
   "id": "71ee94aa",
   "metadata": {},
   "outputs": [],
   "source": [
    "#On créer une fonction pour tester notre équation si elle renvoie True alors elle est vraie sinon elle sera fausse\n",
    "def identifier_redondances( data, prod, pays) :\n",
    "    #on récupère les données qui correspondent aux arguments passés    \n",
    "    mask1 = data[zone] == pays\n",
    "    mask2 = data[produit] == prod\n",
    "    data = data[mask1 & mask2]\n",
    "    data = data.groupby(element).sum(valeur)\n",
    "    \n",
    "    #On récupère les valeurs pour tester notre équation\n",
    "    dispo_interieure = data.loc['Disponibilité intérieure'][valeur]\n",
    "    aliment_pour_animaux = data.loc['Aliments pour animaux'][valeur]\n",
    "    semences = data.loc['Semences'][valeur]\n",
    "    pertes = data.loc['Pertes'][valeur]\n",
    "    traitement = data.loc['Traitement'][valeur]\n",
    "    autres_utilisations = data.loc['Autres utilisations (non alimentaire)'][valeur]\n",
    "    nourriture = data.loc['Nourriture'][valeur]\n",
    "    production = data.loc['Production'][valeur]\n",
    "    importations = data.loc['Importations - Quantité'][valeur]\n",
    "    variation_de_stock = data.loc['Variation de stock'][valeur]\n",
    "    exportations = data.loc['Exportations - Quantité'][valeur]\n",
    "    #On découpe notre équation à 3 termes en 3 calculs distincts\n",
    "    calcul1 = dispo_interieure\n",
    "    calcul2 = aliment_pour_animaux + semences + pertes + traitement + autres_utilisations + nourriture\n",
    "    calcul3 = production + importations + variation_de_stock - exportations\n",
    "    #on compare chaque calcul entre eux si ils sont tous égaux notre équation est alors correcte\n",
    "    if calcul1 != calcul2 :\n",
    "        return False\n",
    "    elif calcul1 != calcul3 :\n",
    "        return False\n",
    "    elif calcul2 != calcul3 :\n",
    "        return False\n",
    "    else :\n",
    "        return True"
   ]
  },
  {
   "cell_type": "code",
   "execution_count": 3,
   "id": "14d25830",
   "metadata": {},
   "outputs": [
    {
     "data": {
      "text/plain": [
       "True"
      ]
     },
     "execution_count": 3,
     "metadata": {},
     "output_type": "execute_result"
    }
   ],
   "source": [
    "identifier_redondances(data, 'Blé', 'France')"
   ]
  },
  {
   "cell_type": "code",
   "execution_count": null,
   "id": "9dfb3b38",
   "metadata": {},
   "outputs": [],
   "source": []
  },
  {
   "cell_type": "code",
   "execution_count": null,
   "id": "0ad99486",
   "metadata": {},
   "outputs": [],
   "source": []
  }
 ],
 "metadata": {
  "kernelspec": {
   "display_name": "Python 3",
   "language": "python",
   "name": "python3"
  },
  "language_info": {
   "codemirror_mode": {
    "name": "ipython",
    "version": 3
   },
   "file_extension": ".py",
   "mimetype": "text/x-python",
   "name": "python",
   "nbconvert_exporter": "python",
   "pygments_lexer": "ipython3",
   "version": "3.8.8"
  }
 },
 "nbformat": 4,
 "nbformat_minor": 5
}
