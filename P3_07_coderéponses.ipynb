{
 "cells": [
  {
   "cell_type": "markdown",
   "id": "4ca33156",
   "metadata": {},
   "source": [
    "# Combien d'humains peuvent être nourris par la disponibilité intérieure ?"
   ]
  },
  {
   "cell_type": "code",
   "execution_count": 41,
   "id": "0fb47f71",
   "metadata": {},
   "outputs": [],
   "source": [
    "import pandas as pd"
   ]
  },
  {
   "cell_type": "code",
   "execution_count": 42,
   "id": "a353a7ee",
   "metadata": {},
   "outputs": [],
   "source": [
    "#Pour déterminé le besoin nutritionnel moyen j'ai fais la moyenne de 32 données tirées des sources communiquées en bas de page.\n",
    "besoin_nutritionnel_moyen_kcal = 2222 * 365\n",
    "besoin_nutritionnel_moyen_prot = round((69.192 * 365), 2)"
   ]
  },
  {
   "cell_type": "code",
   "execution_count": 43,
   "id": "253f2995",
   "metadata": {},
   "outputs": [],
   "source": [
    "#On reprend tout ce qui a été fait question 6"
   ]
  },
  {
   "cell_type": "code",
   "execution_count": 44,
   "id": "a0bbe17b",
   "metadata": {},
   "outputs": [
    {
     "data": {
      "text/plain": [
       "(104011, 5)"
      ]
     },
     "execution_count": 44,
     "metadata": {},
     "output_type": "execute_result"
    }
   ],
   "source": [
    "#Récupération des données utiles\n",
    "data_population = pd.read_csv('fr_population.csv')\n",
    "data_vegetaux = pd.read_csv('fr_vegetaux.csv')\n",
    "\n",
    "#On gère nos noms de colonnes via des variables pour faciliter la maintenance du code\n",
    "code_zone = \"Code zone\"\n",
    "zone = 'Zone'\n",
    "valeur = 'Valeur'\n",
    "element = \"Élément\"\n",
    "code_domaine = 'Code Domaine'\n",
    "domaine = 'Domaine'\n",
    "code_element = 'Code Élément'\n",
    "code_produit = 'Code Produit'\n",
    "produit = 'Produit'\n",
    "code_annee = 'Code année'\n",
    "annee = 'Année'\n",
    "symbole = 'Symbole'\n",
    "description_symbole = 'Description du Symbole'\n",
    "unite = 'Unité'\n",
    "energie_poids = 'Ratio énergie/poids en Kcal/Kg'\n",
    "valeur_kg = 'Valeur en kg'\n",
    "energie_poids_dispo_int = 'Ratio énergie/poids pour la disponibilité intérieure en kcal/kg '\n",
    "proteines_poids = 'Ratio proteines/poids en g/Kg'\n",
    "proteines_poids_dispo_int = 'Ratio proteines/poids pour la disponibilité intérieure en g/kg '\n",
    "\n",
    "data_population = data_population[data_population[code_zone] != 351]\n",
    "data_vegetaux = data_vegetaux[data_vegetaux[code_zone] != 351]\n",
    "data_vegetaux = data_vegetaux.drop([code_zone, code_element, code_domaine, domaine, code_produit, code_annee, annee, symbole, description_symbole], axis = 1)\n",
    "data_vegetaux.shape"
   ]
  },
  {
   "cell_type": "code",
   "execution_count": 45,
   "id": "19e740cc",
   "metadata": {},
   "outputs": [],
   "source": [
    "#Fonction qui récupère la population d'un pays donné\n",
    "def recup_pop(pays) :\n",
    "    pop = data_population[data_population[zone] == pays][valeur].values\n",
    "    pop = int(pop * 1000)\n",
    "    return pop"
   ]
  },
  {
   "cell_type": "code",
   "execution_count": 46,
   "id": "668f822b",
   "metadata": {},
   "outputs": [],
   "source": [
    "#Fonction qui permet de calculer le ratio energie/poids d'un produit dans chaque pays\n",
    "def calculer_energie_poids(data) :\n",
    "    data_ratio_values = []\n",
    "    mask1 = data[element] == 'Nourriture'\n",
    "    mask3 = data[element] == 'Disponibilité alimentaire (Kcal/personne/jour)'\n",
    "    data = data[mask1 | mask3]\n",
    "    kg = 0\n",
    "    kcal = 0\n",
    "    for z, p, u, v in zip(data[zone], data[produit], data[unite], data[valeur]) :\n",
    "        div = False\n",
    "        if u == 'Milliers de tonnes' :\n",
    "            kg = v * 1000000\n",
    "        else :\n",
    "            kcal = v\n",
    "            div = True\n",
    "        if div == True :\n",
    "            if kg == 0 :\n",
    "                ratio = 0\n",
    "            else :\n",
    "                pop = recup_pop(z)\n",
    "                kcal *= pop * 365\n",
    "                ratio = round((kcal / kg), 2)\n",
    "                ratio_values =  [z, p, ratio]\n",
    "                data_ratio_values.append(ratio_values)\n",
    "    data_ratio = pd.DataFrame(data_ratio_values, columns = [zone, produit, energie_poids])\n",
    "    data_ratio = data_ratio[data_ratio[energie_poids] != 0]\n",
    "    return data_ratio"
   ]
  },
  {
   "cell_type": "code",
   "execution_count": 47,
   "id": "33e27150",
   "metadata": {},
   "outputs": [],
   "source": [
    "#Fonction qui récupère la disponibilité intérieure mondiale de chaque produit en kg\n",
    "def recuperer_dispo_int(data) :\n",
    "    mask1 = data[element] == 'Disponibilité intérieure'\n",
    "    mask2 = data[valeur] >0\n",
    "    data.loc[:,valeur] *= 1000000\n",
    "    data = data[mask1 & mask2]\n",
    "    data = data.rename(columns = {valeur : valeur_kg})\n",
    "    data = data.groupby(produit).sum(valeur_kg).reset_index()\n",
    "    return data"
   ]
  },
  {
   "cell_type": "code",
   "execution_count": 48,
   "id": "ff25ef9a",
   "metadata": {},
   "outputs": [],
   "source": [
    "#Fonction qui calcul le ratio kcal/disponibilité intérieure mondiale\n",
    "def calculer_ratio_kcal_dispo_int(data1, data2) :\n",
    "    #On compare nos dataframe et on supprime les produits dont des données manquent \n",
    "    data_1_len = len(data1)\n",
    "    data_2_len = len(data2)\n",
    "    col1 = data1.columns.values\n",
    "    col2 = data2.columns.values\n",
    "    kcal_dispo_int = []\n",
    "    #On retire les lignes non renseignées dans les 2 dataframe\n",
    "    if data_1_len > data_2_len :\n",
    "        for p in data1[produit] :\n",
    "            data3 = data2[data2[produit] == p]\n",
    "            z = len(data3)\n",
    "            if z == 0 :\n",
    "                data1 = data1[data1[produit] != p]\n",
    "            else :\n",
    "                prod = data1[data1[produit] == p]\n",
    "                kcal_kg = prod[col1[1]].values * float (data3[col2[1]].values)\n",
    "                ratio_values = [p, round(kcal_kg, 2)]\n",
    "                kcal_dispo_int.append(ratio_values)\n",
    "    else :\n",
    "        for p in data2[produit] :\n",
    "            data3 = data1[data1[produit] == p]\n",
    "            z = len(data3)\n",
    "            if z == 0 :\n",
    "                data2 = data2[data2[produit] != p]\n",
    "            else :\n",
    "                prod = data2[data2[produit] == p]\n",
    "                kcal_kg = float (prod[col2[1]].values) * float (data3[col1[1]].values)\n",
    "                ratio_values = [p, round(kcal_kg, 2)]\n",
    "                kcal_dispo_int.append(ratio_values)\n",
    "    data1 = pd.DataFrame(kcal_dispo_int, columns = [produit, energie_poids_dispo_int]).set_index(produit)\n",
    "    donnee = data1.sum()\n",
    "    donnee = donnee[0]\n",
    "    return donnee"
   ]
  },
  {
   "cell_type": "code",
   "execution_count": 49,
   "id": "5a5a4fdd",
   "metadata": {},
   "outputs": [],
   "source": [
    "#Fonction qui permet de calculer le ratio poids de proteine/poids dans chaque pays\n",
    "def calculer_ratio_proteines(data) :\n",
    "    data_ratio_values = []\n",
    "    mask1 = data[element] == 'Nourriture'\n",
    "    mask3 = data[element] == 'Disponibilité de protéines en quantité (g/personne/jour)'\n",
    "    data = data[mask1 | mask3]\n",
    "    kg = 0\n",
    "    prot = 0\n",
    "    for z, p, u, v in zip(data[zone], data[produit], data[unite], data[valeur]) :\n",
    "        div = False\n",
    "        if u == 'Milliers de tonnes' :\n",
    "            kg = v * 1000000\n",
    "        else :\n",
    "            prot = v /1000\n",
    "            div = True\n",
    "        if div == True :\n",
    "            if kg == 0 :\n",
    "                ratio = 0\n",
    "            else :\n",
    "                pop = recup_pop(z)\n",
    "                prot *= pop * 365\n",
    "                ratio = round(((prot / kg) * 100), 2)\n",
    "                ratio_values =  [z, p, ratio]\n",
    "                data_ratio_values.append(ratio_values)\n",
    "    data_ratio = pd.DataFrame(data_ratio_values, columns = [zone, produit, proteines_poids])\n",
    "    data_ratio = data_ratio[data_ratio[proteines_poids] != 0]\n",
    "    return data_ratio"
   ]
  },
  {
   "cell_type": "code",
   "execution_count": 50,
   "id": "0fa6c7e5",
   "metadata": {},
   "outputs": [],
   "source": [
    "#Fonction qui calcul le ratio proteine/disponibilité intérieure mondiale\n",
    "def calculer_ratio_prot_dispo_int(data1, data2) :\n",
    "    #On compare nos dataframe et on supprime les produits dont des données manquent \n",
    "    data_1_len = len(data1)\n",
    "    data_2_len = len(data2)\n",
    "    col1 = data1.columns.values\n",
    "    col2 = data2.columns.values\n",
    "    prot_dispo_int = []\n",
    "    #On retire les lignes non renseignées dans l'un des 2 dataframes\n",
    "    if data_1_len > data_2_len :\n",
    "        for p in data1[produit] :\n",
    "            data3 = data2[data2[produit] == p]\n",
    "            z = len(data3)\n",
    "            if z == 0 :\n",
    "                data1 = data1[data1[produit] != p]\n",
    "            else :\n",
    "                prod = data1[data1[produit] == p]\n",
    "                prot_kg = prod[col1[1]].values * float (data3[col2[1]].values)\n",
    "                ratio_values = [p, round(prot_kg, 2)]\n",
    "                prot_dispo_int.append(ratio_values)\n",
    "    else :\n",
    "        for p in data2[produit] :\n",
    "            data3 = data1[data1[produit] == p]\n",
    "            z = len(data3)\n",
    "            if z == 0 :\n",
    "                data2 = data2[data2[produit] != p]\n",
    "            else :\n",
    "                prod = data2[data2[produit] == p]\n",
    "                prot_kg = float (prod[col2[1]].values) * float (data3[col1[1]].values)\n",
    "                ratio_values = [p, round(prot_kg, 2)]\n",
    "                prot_dispo_int.append(ratio_values)\n",
    "    data1 = pd.DataFrame(prot_dispo_int, columns = [produit, proteines_poids_dispo_int]).set_index(produit)\n",
    "    donnee = data1.sum()\n",
    "    donnee = donnee[0]\n",
    "    return donnee"
   ]
  },
  {
   "cell_type": "code",
   "execution_count": 51,
   "id": "31b941b3",
   "metadata": {},
   "outputs": [
    {
     "data": {
      "text/html": [
       "<div>\n",
       "<style scoped>\n",
       "    .dataframe tbody tr th:only-of-type {\n",
       "        vertical-align: middle;\n",
       "    }\n",
       "\n",
       "    .dataframe tbody tr th {\n",
       "        vertical-align: top;\n",
       "    }\n",
       "\n",
       "    .dataframe thead th {\n",
       "        text-align: right;\n",
       "    }\n",
       "</style>\n",
       "<table border=\"1\" class=\"dataframe\">\n",
       "  <thead>\n",
       "    <tr style=\"text-align: right;\">\n",
       "      <th></th>\n",
       "      <th>Zone</th>\n",
       "      <th>Produit</th>\n",
       "      <th>Ratio énergie/poids en Kcal/Kg</th>\n",
       "    </tr>\n",
       "  </thead>\n",
       "  <tbody>\n",
       "    <tr>\n",
       "      <th>0</th>\n",
       "      <td>Afghanistan</td>\n",
       "      <td>Blé</td>\n",
       "      <td>3118.77</td>\n",
       "    </tr>\n",
       "    <tr>\n",
       "      <th>1</th>\n",
       "      <td>Afghanistan</td>\n",
       "      <td>Riz (Eq Blanchi)</td>\n",
       "      <td>3725.97</td>\n",
       "    </tr>\n",
       "    <tr>\n",
       "      <th>2</th>\n",
       "      <td>Afghanistan</td>\n",
       "      <td>Orge</td>\n",
       "      <td>3257.74</td>\n",
       "    </tr>\n",
       "    <tr>\n",
       "      <th>3</th>\n",
       "      <td>Afghanistan</td>\n",
       "      <td>Maïs</td>\n",
       "      <td>3081.33</td>\n",
       "    </tr>\n",
       "    <tr>\n",
       "      <th>4</th>\n",
       "      <td>Afghanistan</td>\n",
       "      <td>Millet</td>\n",
       "      <td>2787.87</td>\n",
       "    </tr>\n",
       "  </tbody>\n",
       "</table>\n",
       "</div>"
      ],
      "text/plain": [
       "          Zone           Produit  Ratio énergie/poids en Kcal/Kg\n",
       "0  Afghanistan               Blé                         3118.77\n",
       "1  Afghanistan  Riz (Eq Blanchi)                         3725.97\n",
       "2  Afghanistan              Orge                         3257.74\n",
       "3  Afghanistan              Maïs                         3081.33\n",
       "4  Afghanistan            Millet                         2787.87"
      ]
     },
     "execution_count": 51,
     "metadata": {},
     "output_type": "execute_result"
    }
   ],
   "source": [
    "data_ratio_kcal = calculer_energie_poids(data_vegetaux)\n",
    "data_ratio_kcal.head()"
   ]
  },
  {
   "cell_type": "code",
   "execution_count": 52,
   "id": "62d12908",
   "metadata": {},
   "outputs": [
    {
     "data": {
      "text/html": [
       "<div>\n",
       "<style scoped>\n",
       "    .dataframe tbody tr th:only-of-type {\n",
       "        vertical-align: middle;\n",
       "    }\n",
       "\n",
       "    .dataframe tbody tr th {\n",
       "        vertical-align: top;\n",
       "    }\n",
       "\n",
       "    .dataframe thead th {\n",
       "        text-align: right;\n",
       "    }\n",
       "</style>\n",
       "<table border=\"1\" class=\"dataframe\">\n",
       "  <thead>\n",
       "    <tr style=\"text-align: right;\">\n",
       "      <th></th>\n",
       "      <th>Produit</th>\n",
       "      <th>Ratio énergie/poids en Kcal/Kg</th>\n",
       "    </tr>\n",
       "  </thead>\n",
       "  <tbody>\n",
       "    <tr>\n",
       "      <th>0</th>\n",
       "      <td>Agrumes, Autres</td>\n",
       "      <td>90.316765</td>\n",
       "    </tr>\n",
       "    <tr>\n",
       "      <th>1</th>\n",
       "      <td>Aliments pour enfants</td>\n",
       "      <td>3224.621684</td>\n",
       "    </tr>\n",
       "    <tr>\n",
       "      <th>2</th>\n",
       "      <td>Ananas</td>\n",
       "      <td>366.682759</td>\n",
       "    </tr>\n",
       "    <tr>\n",
       "      <th>3</th>\n",
       "      <td>Arachides Decortiquees</td>\n",
       "      <td>5620.249638</td>\n",
       "    </tr>\n",
       "    <tr>\n",
       "      <th>4</th>\n",
       "      <td>Avoine</td>\n",
       "      <td>1892.484894</td>\n",
       "    </tr>\n",
       "  </tbody>\n",
       "</table>\n",
       "</div>"
      ],
      "text/plain": [
       "                  Produit  Ratio énergie/poids en Kcal/Kg\n",
       "0         Agrumes, Autres                       90.316765\n",
       "1   Aliments pour enfants                     3224.621684\n",
       "2                  Ananas                      366.682759\n",
       "3  Arachides Decortiquees                     5620.249638\n",
       "4                  Avoine                     1892.484894"
      ]
     },
     "execution_count": 52,
     "metadata": {},
     "output_type": "execute_result"
    }
   ],
   "source": [
    "#On fait la moyenne du ratio energie/kg pour chaque produit et on les classe de façon décroissante\n",
    "data_ratio_kcal = data_ratio_kcal.groupby(produit).mean(energie_poids).reset_index()\n",
    "data_ratio_kcal.head()"
   ]
  },
  {
   "cell_type": "code",
   "execution_count": 53,
   "id": "887794bb",
   "metadata": {},
   "outputs": [
    {
     "data": {
      "text/html": [
       "<div>\n",
       "<style scoped>\n",
       "    .dataframe tbody tr th:only-of-type {\n",
       "        vertical-align: middle;\n",
       "    }\n",
       "\n",
       "    .dataframe tbody tr th {\n",
       "        vertical-align: top;\n",
       "    }\n",
       "\n",
       "    .dataframe thead th {\n",
       "        text-align: right;\n",
       "    }\n",
       "</style>\n",
       "<table border=\"1\" class=\"dataframe\">\n",
       "  <thead>\n",
       "    <tr style=\"text-align: right;\">\n",
       "      <th></th>\n",
       "      <th>Produit</th>\n",
       "      <th>Valeur en kg</th>\n",
       "    </tr>\n",
       "  </thead>\n",
       "  <tbody>\n",
       "    <tr>\n",
       "      <th>0</th>\n",
       "      <td>Agrumes, Autres</td>\n",
       "      <td>1.226300e+10</td>\n",
       "    </tr>\n",
       "    <tr>\n",
       "      <th>1</th>\n",
       "      <td>Alcool, non Comestible</td>\n",
       "      <td>2.176900e+10</td>\n",
       "    </tr>\n",
       "    <tr>\n",
       "      <th>2</th>\n",
       "      <td>Aliments pour enfants</td>\n",
       "      <td>7.670000e+08</td>\n",
       "    </tr>\n",
       "    <tr>\n",
       "      <th>3</th>\n",
       "      <td>Ananas</td>\n",
       "      <td>2.328300e+10</td>\n",
       "    </tr>\n",
       "    <tr>\n",
       "      <th>4</th>\n",
       "      <td>Arachides Decortiquees</td>\n",
       "      <td>2.969500e+10</td>\n",
       "    </tr>\n",
       "  </tbody>\n",
       "</table>\n",
       "</div>"
      ],
      "text/plain": [
       "                  Produit  Valeur en kg\n",
       "0         Agrumes, Autres  1.226300e+10\n",
       "1  Alcool, non Comestible  2.176900e+10\n",
       "2   Aliments pour enfants  7.670000e+08\n",
       "3                  Ananas  2.328300e+10\n",
       "4  Arachides Decortiquees  2.969500e+10"
      ]
     },
     "execution_count": 53,
     "metadata": {},
     "output_type": "execute_result"
    }
   ],
   "source": [
    "data_dispo_int = recuperer_dispo_int(data_vegetaux)\n",
    "data_dispo_int.head()"
   ]
  },
  {
   "cell_type": "code",
   "execution_count": 54,
   "id": "1f266a21",
   "metadata": {},
   "outputs": [
    {
     "name": "stdout",
     "output_type": "stream",
     "text": [
      "Disponibilité intérieure mondiale en kcal :  1.3032992885918248e+16\n"
     ]
    }
   ],
   "source": [
    "#Disponibilité intérieure mondiale en kcal\n",
    "ratio_kcal_dispo_int_mondial = calculer_ratio_kcal_dispo_int(data_ratio_kcal, data_dispo_int)\n",
    "print('Disponibilité intérieure mondiale en kcal : ', ratio_kcal_dispo_int_mondial)"
   ]
  },
  {
   "cell_type": "code",
   "execution_count": 55,
   "id": "fe36d727",
   "metadata": {},
   "outputs": [],
   "source": [
    "population_mondiale = data_population[valeur].sum() * 1000"
   ]
  },
  {
   "cell_type": "code",
   "execution_count": 56,
   "id": "16069985",
   "metadata": {},
   "outputs": [],
   "source": [
    "#Nombre d'humain qui pourraient être nourris avec la disponibilité intérieure en énergie\n",
    "humains_nourri_dispo_int_kcal = int(ratio_kcal_dispo_int_mondial / besoin_nutritionnel_moyen_kcal)\n",
    "humains_nourri_dispo_int_kcal_pourcent = round((humains_nourri_dispo_int_kcal / population_mondiale) * 100, 2)"
   ]
  },
  {
   "cell_type": "code",
   "execution_count": 57,
   "id": "bd3a93d2",
   "metadata": {},
   "outputs": [
    {
     "data": {
      "text/html": [
       "<div>\n",
       "<style scoped>\n",
       "    .dataframe tbody tr th:only-of-type {\n",
       "        vertical-align: middle;\n",
       "    }\n",
       "\n",
       "    .dataframe tbody tr th {\n",
       "        vertical-align: top;\n",
       "    }\n",
       "\n",
       "    .dataframe thead th {\n",
       "        text-align: right;\n",
       "    }\n",
       "</style>\n",
       "<table border=\"1\" class=\"dataframe\">\n",
       "  <thead>\n",
       "    <tr style=\"text-align: right;\">\n",
       "      <th></th>\n",
       "      <th>Produit</th>\n",
       "      <th>Ratio proteines/poids en g/Kg</th>\n",
       "    </tr>\n",
       "  </thead>\n",
       "  <tbody>\n",
       "    <tr>\n",
       "      <th>0</th>\n",
       "      <td>Agrumes, Autres</td>\n",
       "      <td>0.443191</td>\n",
       "    </tr>\n",
       "    <tr>\n",
       "      <th>1</th>\n",
       "      <td>Aliments pour enfants</td>\n",
       "      <td>14.883191</td>\n",
       "    </tr>\n",
       "    <tr>\n",
       "      <th>2</th>\n",
       "      <td>Ananas</td>\n",
       "      <td>0.307431</td>\n",
       "    </tr>\n",
       "    <tr>\n",
       "      <th>3</th>\n",
       "      <td>Arachides Decortiquees</td>\n",
       "      <td>25.146812</td>\n",
       "    </tr>\n",
       "    <tr>\n",
       "      <th>4</th>\n",
       "      <td>Avoine</td>\n",
       "      <td>8.446593</td>\n",
       "    </tr>\n",
       "  </tbody>\n",
       "</table>\n",
       "</div>"
      ],
      "text/plain": [
       "                  Produit  Ratio proteines/poids en g/Kg\n",
       "0         Agrumes, Autres                       0.443191\n",
       "1   Aliments pour enfants                      14.883191\n",
       "2                  Ananas                       0.307431\n",
       "3  Arachides Decortiquees                      25.146812\n",
       "4                  Avoine                       8.446593"
      ]
     },
     "execution_count": 57,
     "metadata": {},
     "output_type": "execute_result"
    }
   ],
   "source": [
    "data_ratio_proteines = calculer_ratio_proteines(data_vegetaux)\n",
    "data_ratio_proteines = data_ratio_proteines.groupby(produit).mean(proteines_poids).reset_index()\n",
    "data_ratio_proteines.head()"
   ]
  },
  {
   "cell_type": "code",
   "execution_count": 58,
   "id": "82d07e50",
   "metadata": {},
   "outputs": [],
   "source": [
    "ratio_proteines_dispo_int_mondial = calculer_ratio_prot_dispo_int(data_ratio_proteines, data_dispo_int)"
   ]
  },
  {
   "cell_type": "code",
   "execution_count": 59,
   "id": "b5c4d34e",
   "metadata": {},
   "outputs": [],
   "source": [
    "#Nombre d'humain qui pourraient être nourris avec la disponibilité intérieure en proteines\n",
    "humains_nourri_dispo_int_proteines = int (ratio_proteines_dispo_int_mondial / besoin_nutritionnel_moyen_prot)\n",
    "humains_nourri_dispo_int_proteines_pourcent = round((humains_nourri_dispo_int_proteines / population_mondiale) * 100, 2)"
   ]
  },
  {
   "cell_type": "code",
   "execution_count": 60,
   "id": "78583d36",
   "metadata": {},
   "outputs": [
    {
     "name": "stdout",
     "output_type": "stream",
     "text": [
      "Combien d'humains pourraient être nourris si toute la disponibilité intérieure mondiale de produits végétaux était utilisée pour de la nourriture ? \n",
      " - D'un point de vue énergétique :  16069680389  soit :  229.65 %\n",
      " - D'un point de vue protéines :  1382345872  soit :  19.76 %\n"
     ]
    }
   ],
   "source": [
    "#Réponses question 7 :\n",
    "print(\"Combien d'humains pourraient être nourris si toute la disponibilité intérieure mondiale de produits végétaux était utilisée pour de la nourriture ? \")\n",
    "print(\" - D'un point de vue énergétique : \", humains_nourri_dispo_int_kcal, \" soit : \", humains_nourri_dispo_int_kcal_pourcent, \"%\")\n",
    "print(\" - D'un point de vue protéines : \", humains_nourri_dispo_int_proteines, \" soit : \", humains_nourri_dispo_int_proteines_pourcent, \"%\")"
   ]
  },
  {
   "cell_type": "raw",
   "id": "4f80b9cc",
   "metadata": {},
   "source": [
    "sources : \n",
    "- http://campus.cerimes.fr/hepato-gastro-enterologie/enseignement/item110/site/html/1.html#:~:text=Dans%20les%20conditions%20habituelles%20de,besoins%20doivent%20couvrir%20ces%20d%C3%A9penses\n",
    "- https://www.sante-sur-le-net.com/nutrition-bien-etre/nutrition/besoins-energetiques/\n",
    "- https://www.anses.fr/fr/system/files/NUT2012SA0103Ra-2.pdf\n",
    "- https://www.anses.fr/fr/content/les-prot%C3%A9ines#:~:text=Les%20recommandations%20de%20l'Agence,%C3%A9nerg%C3%A9tique%20total%20(AET)%20quotidien\n",
    "- https://www.futura-sciences.com/sante/actualites/biologie-obesite-humanite-pese-287-millions-tonnes-185-excedent-39459/"
   ]
  }
 ],
 "metadata": {
  "kernelspec": {
   "display_name": "Python 3",
   "language": "python",
   "name": "python3"
  },
  "language_info": {
   "codemirror_mode": {
    "name": "ipython",
    "version": 3
   },
   "file_extension": ".py",
   "mimetype": "text/x-python",
   "name": "python",
   "nbconvert_exporter": "python",
   "pygments_lexer": "ipython3",
   "version": "3.8.8"
  }
 },
 "nbformat": 4,
 "nbformat_minor": 5
}
