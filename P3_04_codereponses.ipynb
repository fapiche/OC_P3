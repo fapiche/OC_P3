{
 "cells": [
  {
   "cell_type": "markdown",
   "id": "46de58ac",
   "metadata": {},
   "source": [
    "# Calcul du ratio énergie/poids "
   ]
  },
  {
   "cell_type": "code",
   "execution_count": 9,
   "id": "117fa055",
   "metadata": {},
   "outputs": [],
   "source": [
    "import pandas as pd\n",
    "import numpy as np"
   ]
  },
  {
   "cell_type": "code",
   "execution_count": 10,
   "id": "a5b6ef65",
   "metadata": {},
   "outputs": [],
   "source": [
    "#Récupération des données utiles\n",
    "data_population = pd.read_csv('fr_population.csv')\n",
    "data_animaux = pd.read_csv('fr_animaux.csv')\n",
    "data_vegetaux = pd.read_csv('fr_vegetaux.csv')\n",
    "\n",
    "#On gère nos noms de colonnes via des variables pour faciliter la maintenance du code\n",
    "code_zone = \"Code zone\"\n",
    "zone = 'Zone'\n",
    "valeur = 'Valeur'\n",
    "element = \"Élément\"\n",
    "code_domaine = 'Code Domaine'\n",
    "domaine = 'Domaine'\n",
    "code_element = 'Code Élément'\n",
    "code_produit = 'Code Produit'\n",
    "produit = 'Produit'\n",
    "code_annee = 'Code année'\n",
    "annee = 'Année'\n",
    "symbole = 'Symbole'\n",
    "description_symbole = 'Description du Symbole'\n",
    "unite = 'Unité'\n",
    "energie_poids = 'Ratio énergie/poids en Kcal/Kg'\n",
    "proteines_poids = 'Ratio proteines/poids en g/Kg'\n",
    "\n",
    "data_population = data_population[data_population[code_zone] != 351]\n",
    "data_animaux = data_animaux[data_animaux[code_zone] != 351]\n",
    "data_vegetaux = data_vegetaux[data_vegetaux[code_zone] != 351]"
   ]
  },
  {
   "cell_type": "code",
   "execution_count": 11,
   "id": "b646287e",
   "metadata": {},
   "outputs": [],
   "source": [
    "#Fonction qui récupère la population d'un pays donné\n",
    "def recup_pop(pays) :\n",
    "    pop = data_population[data_population[zone] == pays][valeur].values\n",
    "    pop = int(pop * 1000)\n",
    "    return pop"
   ]
  },
  {
   "cell_type": "code",
   "execution_count": 12,
   "id": "ee91f611",
   "metadata": {},
   "outputs": [],
   "source": [
    "#Fonction qui permet de calculer le ratio energie/poids d'un produit dans un pays\n",
    "def calculer_energie_poids(data) :\n",
    "    data_ratio_values = []\n",
    "    mask1 = data[element] == 'Nourriture'\n",
    "    mask3 = data[element] == 'Disponibilité alimentaire (Kcal/personne/jour)'\n",
    "    data = data[mask1 | mask3]\n",
    "    kg = 0\n",
    "    kcal = 0\n",
    "    for z, p, u, v in zip(data[zone], data[produit], data[unite], data[valeur]) :\n",
    "        div = False\n",
    "        if u == 'Milliers de tonnes' :\n",
    "            kg = v * 1000000\n",
    "        else :\n",
    "            kcal = v\n",
    "            div = True\n",
    "        if div == True :\n",
    "            if kg == 0 :\n",
    "                ratio = 0\n",
    "            else :\n",
    "                pop = recup_pop(z)\n",
    "                kcal *= pop * 365\n",
    "                ratio = round((kcal / kg), 2)\n",
    "                ratio_values =  [z, p, ratio]\n",
    "                data_ratio_values.append(ratio_values)\n",
    "    data_ratio = pd.DataFrame(data_ratio_values, columns = [zone, produit, energie_poids])\n",
    "    data_ratio = data_ratio[data_ratio[energie_poids] != 0]\n",
    "    return data_ratio\n",
    "            \n",
    "        "
   ]
  },
  {
   "cell_type": "code",
   "execution_count": 13,
   "id": "45ac844c",
   "metadata": {},
   "outputs": [],
   "source": [
    "#Fonction qui permet de calculer le ratio poids de proteine/poids total\n",
    "def calculer_ratio_proteines(data) :\n",
    "    data_ratio_values = []\n",
    "    mask1 = data[element] == 'Nourriture'\n",
    "    mask3 = data[element] == 'Disponibilité de protéines en quantité (g/personne/jour)'\n",
    "    data = data[mask1 | mask3]\n",
    "    kg = 0\n",
    "    prot = 0\n",
    "    for z, p, u, v in zip(data[zone], data[produit], data[unite], data[valeur]) :\n",
    "        div = False\n",
    "        if u == 'Milliers de tonnes' :\n",
    "            kg = v * 1000000\n",
    "        else :\n",
    "            prot = v /1000\n",
    "            div = True\n",
    "        if div == True :\n",
    "            if kg == 0 :\n",
    "                ratio = 0\n",
    "            else :\n",
    "                pop = recup_pop(z)\n",
    "                prot *= pop * 365\n",
    "                ratio = round(((prot / kg) * 100), 2)\n",
    "                ratio_values =  [z, p, ratio]\n",
    "                data_ratio_values.append(ratio_values)\n",
    "    data_ratio = pd.DataFrame(data_ratio_values, columns = [zone, produit, proteines_poids])\n",
    "    data_ratio = data_ratio[data_ratio[proteines_poids] != 0]\n",
    "    return data_ratio"
   ]
  },
  {
   "cell_type": "code",
   "execution_count": 14,
   "id": "0d5c20b9",
   "metadata": {},
   "outputs": [
    {
     "data": {
      "text/html": [
       "<div>\n",
       "<style scoped>\n",
       "    .dataframe tbody tr th:only-of-type {\n",
       "        vertical-align: middle;\n",
       "    }\n",
       "\n",
       "    .dataframe tbody tr th {\n",
       "        vertical-align: top;\n",
       "    }\n",
       "\n",
       "    .dataframe thead th {\n",
       "        text-align: right;\n",
       "    }\n",
       "</style>\n",
       "<table border=\"1\" class=\"dataframe\">\n",
       "  <thead>\n",
       "    <tr style=\"text-align: right;\">\n",
       "      <th></th>\n",
       "      <th>Zone</th>\n",
       "      <th>Produit</th>\n",
       "      <th>Ratio énergie/poids en Kcal/Kg</th>\n",
       "    </tr>\n",
       "  </thead>\n",
       "  <tbody>\n",
       "    <tr>\n",
       "      <th>0</th>\n",
       "      <td>Afghanistan</td>\n",
       "      <td>Viande de Bovins</td>\n",
       "      <td>2150.64</td>\n",
       "    </tr>\n",
       "    <tr>\n",
       "      <th>1</th>\n",
       "      <td>Afghanistan</td>\n",
       "      <td>Viande d'Ovins/Caprins</td>\n",
       "      <td>2304.64</td>\n",
       "    </tr>\n",
       "    <tr>\n",
       "      <th>2</th>\n",
       "      <td>Afghanistan</td>\n",
       "      <td>Viande de Volailles</td>\n",
       "      <td>1338.18</td>\n",
       "    </tr>\n",
       "    <tr>\n",
       "      <th>3</th>\n",
       "      <td>Afghanistan</td>\n",
       "      <td>Viande, Autre</td>\n",
       "      <td>929.29</td>\n",
       "    </tr>\n",
       "    <tr>\n",
       "      <th>4</th>\n",
       "      <td>Afghanistan</td>\n",
       "      <td>Abats Comestible</td>\n",
       "      <td>1052.03</td>\n",
       "    </tr>\n",
       "  </tbody>\n",
       "</table>\n",
       "</div>"
      ],
      "text/plain": [
       "          Zone                 Produit  Ratio énergie/poids en Kcal/Kg\n",
       "0  Afghanistan        Viande de Bovins                         2150.64\n",
       "1  Afghanistan  Viande d'Ovins/Caprins                         2304.64\n",
       "2  Afghanistan     Viande de Volailles                         1338.18\n",
       "3  Afghanistan           Viande, Autre                          929.29\n",
       "4  Afghanistan        Abats Comestible                         1052.03"
      ]
     },
     "execution_count": 14,
     "metadata": {},
     "output_type": "execute_result"
    }
   ],
   "source": [
    "data_ratio_kcal = calculer_energie_poids(data_animaux)\n",
    "data_ratio_kcal.head()"
   ]
  },
  {
   "cell_type": "code",
   "execution_count": 15,
   "id": "e7200506",
   "metadata": {},
   "outputs": [
    {
     "data": {
      "text/html": [
       "<div>\n",
       "<style scoped>\n",
       "    .dataframe tbody tr th:only-of-type {\n",
       "        vertical-align: middle;\n",
       "    }\n",
       "\n",
       "    .dataframe tbody tr th {\n",
       "        vertical-align: top;\n",
       "    }\n",
       "\n",
       "    .dataframe thead th {\n",
       "        text-align: right;\n",
       "    }\n",
       "</style>\n",
       "<table border=\"1\" class=\"dataframe\">\n",
       "  <thead>\n",
       "    <tr style=\"text-align: right;\">\n",
       "      <th></th>\n",
       "      <th>Zone</th>\n",
       "      <th>Produit</th>\n",
       "      <th>Ratio proteines/poids en g/Kg</th>\n",
       "    </tr>\n",
       "  </thead>\n",
       "  <tbody>\n",
       "    <tr>\n",
       "      <th>0</th>\n",
       "      <td>Afghanistan</td>\n",
       "      <td>Blé</td>\n",
       "      <td>8.41</td>\n",
       "    </tr>\n",
       "    <tr>\n",
       "      <th>1</th>\n",
       "      <td>Afghanistan</td>\n",
       "      <td>Riz (Eq Blanchi)</td>\n",
       "      <td>7.13</td>\n",
       "    </tr>\n",
       "    <tr>\n",
       "      <th>2</th>\n",
       "      <td>Afghanistan</td>\n",
       "      <td>Orge</td>\n",
       "      <td>9.90</td>\n",
       "    </tr>\n",
       "    <tr>\n",
       "      <th>3</th>\n",
       "      <td>Afghanistan</td>\n",
       "      <td>Maïs</td>\n",
       "      <td>8.22</td>\n",
       "    </tr>\n",
       "    <tr>\n",
       "      <th>4</th>\n",
       "      <td>Afghanistan</td>\n",
       "      <td>Millet</td>\n",
       "      <td>7.43</td>\n",
       "    </tr>\n",
       "  </tbody>\n",
       "</table>\n",
       "</div>"
      ],
      "text/plain": [
       "          Zone           Produit  Ratio proteines/poids en g/Kg\n",
       "0  Afghanistan               Blé                           8.41\n",
       "1  Afghanistan  Riz (Eq Blanchi)                           7.13\n",
       "2  Afghanistan              Orge                           9.90\n",
       "3  Afghanistan              Maïs                           8.22\n",
       "4  Afghanistan            Millet                           7.43"
      ]
     },
     "execution_count": 15,
     "metadata": {},
     "output_type": "execute_result"
    }
   ],
   "source": [
    "data_ratio_prot = calculer_ratio_proteines(data_vegetaux)\n",
    "data_ratio_prot.head()"
   ]
  },
  {
   "cell_type": "code",
   "execution_count": 16,
   "id": "1f88c9bb",
   "metadata": {},
   "outputs": [],
   "source": [
    "#data_ratio_moyen = data_ratio.groupby(produit).mean(energie_poids)"
   ]
  },
  {
   "cell_type": "code",
   "execution_count": 17,
   "id": "5babc652",
   "metadata": {},
   "outputs": [],
   "source": [
    "#data_ratio_moyen.head()"
   ]
  },
  {
   "cell_type": "code",
   "execution_count": 18,
   "id": "cbe1e191",
   "metadata": {},
   "outputs": [],
   "source": [
    "data_ratio_kcal.to_csv('P3_04_01_données.csv')\n",
    "data_ratio_prot.to_csv('P3_04_02_données.csv')"
   ]
  },
  {
   "cell_type": "code",
   "execution_count": null,
   "id": "73e917d3",
   "metadata": {},
   "outputs": [],
   "source": []
  }
 ],
 "metadata": {
  "kernelspec": {
   "display_name": "Python 3",
   "language": "python",
   "name": "python3"
  },
  "language_info": {
   "codemirror_mode": {
    "name": "ipython",
    "version": 3
   },
   "file_extension": ".py",
   "mimetype": "text/x-python",
   "name": "python",
   "nbconvert_exporter": "python",
   "pygments_lexer": "ipython3",
   "version": "3.8.8"
  }
 },
 "nbformat": 4,
 "nbformat_minor": 5
}
