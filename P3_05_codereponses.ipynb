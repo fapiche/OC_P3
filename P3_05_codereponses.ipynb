{
 "cells": [
  {
   "cell_type": "markdown",
   "id": "1116aca2",
   "metadata": {},
   "source": [
    "# Les 5 aliments les plus caloriques en kcal/kg"
   ]
  },
  {
   "cell_type": "code",
   "execution_count": 1,
   "id": "79b5fb4e",
   "metadata": {},
   "outputs": [],
   "source": [
    "import pandas as pd"
   ]
  },
  {
   "cell_type": "code",
   "execution_count": 2,
   "id": "cd28365a",
   "metadata": {},
   "outputs": [
    {
     "data": {
      "text/plain": [
       "(36908, 14)"
      ]
     },
     "execution_count": 2,
     "metadata": {},
     "output_type": "execute_result"
    }
   ],
   "source": [
    "#Récupération des données utiles\n",
    "data_population = pd.read_csv('fr_population.csv')\n",
    "data_animaux = pd.read_csv('fr_animaux.csv')\n",
    "data_vegetaux = pd.read_csv('fr_vegetaux.csv')\n",
    "\n",
    "#On gère nos noms de colonnes via des variables pour faciliter la maintenance du code\n",
    "code_zone = \"Code zone\"\n",
    "zone = 'Zone'\n",
    "valeur = 'Valeur'\n",
    "element = \"Élément\"\n",
    "code_domaine = 'Code Domaine'\n",
    "domaine = 'Domaine'\n",
    "code_element = 'Code Élément'\n",
    "code_produit = 'Code Produit'\n",
    "produit = 'Produit'\n",
    "code_annee = 'Code année'\n",
    "annee = 'Année'\n",
    "symbole = 'Symbole'\n",
    "description_symbole = 'Description du Symbole'\n",
    "unite = 'Unité'\n",
    "energie_poids = 'Ratio énergie/poids en Kcal/Kg'\n",
    "\n",
    "data_population = data_population[data_population[code_zone] != 351]\n",
    "data_animaux = data_animaux[data_animaux[code_zone] != 351]\n",
    "data_vegetaux = data_vegetaux[data_vegetaux[code_zone] != 351]\n",
    "data_animaux.shape"
   ]
  },
  {
   "cell_type": "code",
   "execution_count": 3,
   "id": "a1be9750",
   "metadata": {},
   "outputs": [
    {
     "data": {
      "text/plain": [
       "(104011, 5)"
      ]
     },
     "execution_count": 3,
     "metadata": {},
     "output_type": "execute_result"
    }
   ],
   "source": [
    "data_animaux = data_animaux.drop([code_zone, code_domaine, domaine, code_element, code_produit, code_annee, annee, symbole, description_symbole ], axis = 1)\n",
    "data_vegetaux = data_vegetaux.drop([code_zone, code_domaine, domaine, code_element, code_produit, code_annee, annee, symbole, description_symbole ], axis = 1)\n",
    "data_vegetaux.shape"
   ]
  },
  {
   "cell_type": "code",
   "execution_count": 4,
   "id": "7d3f6814",
   "metadata": {},
   "outputs": [
    {
     "data": {
      "text/html": [
       "<div>\n",
       "<style scoped>\n",
       "    .dataframe tbody tr th:only-of-type {\n",
       "        vertical-align: middle;\n",
       "    }\n",
       "\n",
       "    .dataframe tbody tr th {\n",
       "        vertical-align: top;\n",
       "    }\n",
       "\n",
       "    .dataframe thead th {\n",
       "        text-align: right;\n",
       "    }\n",
       "</style>\n",
       "<table border=\"1\" class=\"dataframe\">\n",
       "  <thead>\n",
       "    <tr style=\"text-align: right;\">\n",
       "      <th></th>\n",
       "      <th>index</th>\n",
       "      <th>Zone</th>\n",
       "      <th>Élément</th>\n",
       "      <th>Produit</th>\n",
       "      <th>Unité</th>\n",
       "      <th>Valeur</th>\n",
       "    </tr>\n",
       "  </thead>\n",
       "  <tbody>\n",
       "    <tr>\n",
       "      <th>0</th>\n",
       "      <td>0</td>\n",
       "      <td>Afghanistan</td>\n",
       "      <td>Production</td>\n",
       "      <td>Viande de Bovins</td>\n",
       "      <td>Milliers de tonnes</td>\n",
       "      <td>134.00</td>\n",
       "    </tr>\n",
       "    <tr>\n",
       "      <th>1</th>\n",
       "      <td>1</td>\n",
       "      <td>Afghanistan</td>\n",
       "      <td>Importations - Quantité</td>\n",
       "      <td>Viande de Bovins</td>\n",
       "      <td>Milliers de tonnes</td>\n",
       "      <td>6.00</td>\n",
       "    </tr>\n",
       "    <tr>\n",
       "      <th>2</th>\n",
       "      <td>2</td>\n",
       "      <td>Afghanistan</td>\n",
       "      <td>Disponibilité intérieure</td>\n",
       "      <td>Viande de Bovins</td>\n",
       "      <td>Milliers de tonnes</td>\n",
       "      <td>140.00</td>\n",
       "    </tr>\n",
       "    <tr>\n",
       "      <th>3</th>\n",
       "      <td>3</td>\n",
       "      <td>Afghanistan</td>\n",
       "      <td>Nourriture</td>\n",
       "      <td>Viande de Bovins</td>\n",
       "      <td>Milliers de tonnes</td>\n",
       "      <td>140.00</td>\n",
       "    </tr>\n",
       "    <tr>\n",
       "      <th>4</th>\n",
       "      <td>4</td>\n",
       "      <td>Afghanistan</td>\n",
       "      <td>Disponibilité alimentaire en quantité (kg/pers...</td>\n",
       "      <td>Viande de Bovins</td>\n",
       "      <td>kg</td>\n",
       "      <td>4.59</td>\n",
       "    </tr>\n",
       "  </tbody>\n",
       "</table>\n",
       "</div>"
      ],
      "text/plain": [
       "   index         Zone                                            Élément  \\\n",
       "0      0  Afghanistan                                         Production   \n",
       "1      1  Afghanistan                            Importations - Quantité   \n",
       "2      2  Afghanistan                           Disponibilité intérieure   \n",
       "3      3  Afghanistan                                         Nourriture   \n",
       "4      4  Afghanistan  Disponibilité alimentaire en quantité (kg/pers...   \n",
       "\n",
       "            Produit               Unité  Valeur  \n",
       "0  Viande de Bovins  Milliers de tonnes  134.00  \n",
       "1  Viande de Bovins  Milliers de tonnes    6.00  \n",
       "2  Viande de Bovins  Milliers de tonnes  140.00  \n",
       "3  Viande de Bovins  Milliers de tonnes  140.00  \n",
       "4  Viande de Bovins                  kg    4.59  "
      ]
     },
     "execution_count": 4,
     "metadata": {},
     "output_type": "execute_result"
    }
   ],
   "source": [
    "data_prod = data_animaux.append(data_vegetaux).reset_index()\n",
    "data_prod.head()"
   ]
  },
  {
   "cell_type": "code",
   "execution_count": 5,
   "id": "d28910d0",
   "metadata": {},
   "outputs": [],
   "source": [
    "#Fonction qui récupère la population d'un pays donné\n",
    "def recup_pop(pays) :\n",
    "    pop = data_population[data_population[zone] == pays][valeur].values\n",
    "    pop = int(pop * 1000)\n",
    "    return pop"
   ]
  },
  {
   "cell_type": "code",
   "execution_count": 6,
   "id": "cdcd513f",
   "metadata": {},
   "outputs": [],
   "source": [
    "#Fonction qui permet de calculer le ratio energie/poids d'un produit dans un pays\n",
    "def calculer_energie_poids(data) :\n",
    "    data_ratio_values = []\n",
    "    mask1 = data[element] == 'Nourriture'\n",
    "    mask3 = data[element] == 'Disponibilité alimentaire (Kcal/personne/jour)'\n",
    "    data = data[mask1 | mask3]\n",
    "    kg = 0\n",
    "    kcal = 0\n",
    "    for z, p, u, v in zip(data[zone], data[produit], data[unite], data[valeur]) :\n",
    "        div = False\n",
    "        if u == 'Milliers de tonnes' :\n",
    "            kg = v * 1000000\n",
    "        else :\n",
    "            kcal = v\n",
    "            div = True\n",
    "        if div == True :\n",
    "            if kg == 0 :\n",
    "                ratio = 0\n",
    "            else :\n",
    "                pop = recup_pop(z)\n",
    "                kcal *= pop * 365\n",
    "                ratio = round((kcal / kg), 2)\n",
    "                ratio_values =  [z, p, ratio]\n",
    "                data_ratio_values.append(ratio_values)\n",
    "    data_ratio = pd.DataFrame(data_ratio_values, columns = [zone, produit, energie_poids])\n",
    "    data_ratio = data_ratio[data_ratio[energie_poids] != 0]\n",
    "    return data_ratio"
   ]
  },
  {
   "cell_type": "code",
   "execution_count": 7,
   "id": "78fc9b5b",
   "metadata": {},
   "outputs": [
    {
     "data": {
      "text/html": [
       "<div>\n",
       "<style scoped>\n",
       "    .dataframe tbody tr th:only-of-type {\n",
       "        vertical-align: middle;\n",
       "    }\n",
       "\n",
       "    .dataframe tbody tr th {\n",
       "        vertical-align: top;\n",
       "    }\n",
       "\n",
       "    .dataframe thead th {\n",
       "        text-align: right;\n",
       "    }\n",
       "</style>\n",
       "<table border=\"1\" class=\"dataframe\">\n",
       "  <thead>\n",
       "    <tr style=\"text-align: right;\">\n",
       "      <th></th>\n",
       "      <th>Zone</th>\n",
       "      <th>Produit</th>\n",
       "      <th>Ratio énergie/poids en Kcal/Kg</th>\n",
       "    </tr>\n",
       "  </thead>\n",
       "  <tbody>\n",
       "    <tr>\n",
       "      <th>0</th>\n",
       "      <td>Afghanistan</td>\n",
       "      <td>Viande de Bovins</td>\n",
       "      <td>2150.64</td>\n",
       "    </tr>\n",
       "    <tr>\n",
       "      <th>1</th>\n",
       "      <td>Afghanistan</td>\n",
       "      <td>Viande d'Ovins/Caprins</td>\n",
       "      <td>2304.64</td>\n",
       "    </tr>\n",
       "    <tr>\n",
       "      <th>2</th>\n",
       "      <td>Afghanistan</td>\n",
       "      <td>Viande de Volailles</td>\n",
       "      <td>1338.18</td>\n",
       "    </tr>\n",
       "    <tr>\n",
       "      <th>3</th>\n",
       "      <td>Afghanistan</td>\n",
       "      <td>Viande, Autre</td>\n",
       "      <td>929.29</td>\n",
       "    </tr>\n",
       "    <tr>\n",
       "      <th>4</th>\n",
       "      <td>Afghanistan</td>\n",
       "      <td>Abats Comestible</td>\n",
       "      <td>1052.03</td>\n",
       "    </tr>\n",
       "  </tbody>\n",
       "</table>\n",
       "</div>"
      ],
      "text/plain": [
       "          Zone                 Produit  Ratio énergie/poids en Kcal/Kg\n",
       "0  Afghanistan        Viande de Bovins                         2150.64\n",
       "1  Afghanistan  Viande d'Ovins/Caprins                         2304.64\n",
       "2  Afghanistan     Viande de Volailles                         1338.18\n",
       "3  Afghanistan           Viande, Autre                          929.29\n",
       "4  Afghanistan        Abats Comestible                         1052.03"
      ]
     },
     "execution_count": 7,
     "metadata": {},
     "output_type": "execute_result"
    }
   ],
   "source": [
    "data_ratio_kcal = calculer_energie_poids(data_prod)\n",
    "data_ratio_kcal.head()"
   ]
  },
  {
   "cell_type": "code",
   "execution_count": 8,
   "id": "71725aa9",
   "metadata": {},
   "outputs": [],
   "source": [
    "#On fait la moyenne du ratio energie/kg pour chaque produit et on les classe de façon décroissante\n",
    "data_ratio_kcal = data_ratio_kcal.groupby(produit).mean(energie_poids).sort_values(energie_poids, ascending = False)"
   ]
  },
  {
   "cell_type": "code",
   "execution_count": 9,
   "id": "a98b5b12",
   "metadata": {},
   "outputs": [
    {
     "data": {
      "text/html": [
       "<div>\n",
       "<style scoped>\n",
       "    .dataframe tbody tr th:only-of-type {\n",
       "        vertical-align: middle;\n",
       "    }\n",
       "\n",
       "    .dataframe tbody tr th {\n",
       "        vertical-align: top;\n",
       "    }\n",
       "\n",
       "    .dataframe thead th {\n",
       "        text-align: right;\n",
       "    }\n",
       "</style>\n",
       "<table border=\"1\" class=\"dataframe\">\n",
       "  <thead>\n",
       "    <tr style=\"text-align: right;\">\n",
       "      <th></th>\n",
       "      <th>Ratio énergie/poids en Kcal/Kg</th>\n",
       "    </tr>\n",
       "    <tr>\n",
       "      <th>Produit</th>\n",
       "      <th></th>\n",
       "    </tr>\n",
       "  </thead>\n",
       "  <tbody>\n",
       "    <tr>\n",
       "      <th>Huiles de Foie de Poisso</th>\n",
       "      <td>9982.930000</td>\n",
       "    </tr>\n",
       "    <tr>\n",
       "      <th>Huile de Sésame</th>\n",
       "      <td>9433.745429</td>\n",
       "    </tr>\n",
       "    <tr>\n",
       "      <th>Huile de Son de Riz</th>\n",
       "      <td>9361.549167</td>\n",
       "    </tr>\n",
       "    <tr>\n",
       "      <th>Huiles de Poissons</th>\n",
       "      <td>9003.716667</td>\n",
       "    </tr>\n",
       "    <tr>\n",
       "      <th>Huile d'Arachide</th>\n",
       "      <td>8935.765921</td>\n",
       "    </tr>\n",
       "  </tbody>\n",
       "</table>\n",
       "</div>"
      ],
      "text/plain": [
       "                          Ratio énergie/poids en Kcal/Kg\n",
       "Produit                                                 \n",
       "Huiles de Foie de Poisso                     9982.930000\n",
       "Huile de Sésame                              9433.745429\n",
       "Huile de Son de Riz                          9361.549167\n",
       "Huiles de Poissons                           9003.716667\n",
       "Huile d'Arachide                             8935.765921"
      ]
     },
     "execution_count": 9,
     "metadata": {},
     "output_type": "execute_result"
    }
   ],
   "source": [
    "#Réponse à la question 5\n",
    "data_ratio_kcal.head(5)"
   ]
  },
  {
   "cell_type": "code",
   "execution_count": 10,
   "id": "2ede8dcd",
   "metadata": {},
   "outputs": [],
   "source": [
    "data_ratio_kcal.to_csv(\"P3_05_données.csv\")"
   ]
  }
 ],
 "metadata": {
  "kernelspec": {
   "display_name": "Python 3",
   "language": "python",
   "name": "python3"
  },
  "language_info": {
   "codemirror_mode": {
    "name": "ipython",
    "version": 3
   },
   "file_extension": ".py",
   "mimetype": "text/x-python",
   "name": "python",
   "nbconvert_exporter": "python",
   "pygments_lexer": "ipython3",
   "version": "3.8.8"
  }
 },
 "nbformat": 4,
 "nbformat_minor": 5
}
