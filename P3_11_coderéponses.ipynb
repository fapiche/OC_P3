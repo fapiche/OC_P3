{
 "cells": [
  {
   "cell_type": "markdown",
   "id": "d05d505b",
   "metadata": {},
   "source": [
    "# En ne prenant en compte que les céréales destinées à l'alimentation, quelle proportion est destinée à l'alimentation animale ?"
   ]
  },
  {
   "cell_type": "code",
   "execution_count": 1,
   "id": "8ce9fe92",
   "metadata": {},
   "outputs": [],
   "source": [
    "import pandas as pd"
   ]
  },
  {
   "cell_type": "code",
   "execution_count": 2,
   "id": "7627379b",
   "metadata": {},
   "outputs": [
    {
     "data": {
      "text/plain": [
       "array(['Avoine', 'Blé', 'Céréales, Autres', 'Maïs', 'Millet', 'Orge',\n",
       "       'Riz (Eq Blanchi)', 'Seigle', 'Sorgho'], dtype=object)"
      ]
     },
     "execution_count": 2,
     "metadata": {},
     "output_type": "execute_result"
    }
   ],
   "source": [
    "#On importe et formatte nos données\n",
    "data_cereales = pd.read_csv('fr_cereales.csv')\n",
    "data_vegetaux = pd.read_csv('fr_vegetaux.csv')\n",
    "\n",
    "#On gère nos noms de colonnes via des variables pour faciliter la maintenance du code\n",
    "code_domaine = 'Code Domaine'\n",
    "domaine = 'Domaine'\n",
    "code_zone = \"Code zone\"\n",
    "zone = 'Zone'\n",
    "code_element = 'Code Élément'\n",
    "element = 'Élément'\n",
    "code_produit = 'Code Produit'\n",
    "produit = 'Produit'\n",
    "code_annee = 'Code année'\n",
    "annee = 'Année'\n",
    "unite = 'Unité'\n",
    "valeur = 'Valeur'\n",
    "symbole = 'Symbole'\n",
    "description_symbole = 'Description du Symbole'\n",
    "is_cereale = 'Est une céréale ?'\n",
    "\n",
    "cereales = data_cereales.groupby(produit).sum().reset_index()\n",
    "#On retire les doublons\n",
    "mask0 = data_vegetaux[code_zone] != 351\n",
    "\n",
    "#On ne garde que les colonnes dont on a besoin\n",
    "data_vegetaux = data_vegetaux.drop([code_domaine, domaine, code_zone, code_element, code_annee, annee, symbole, description_symbole], axis = 1)\n",
    "cereales = cereales[produit].values\n",
    "\n",
    "#On retire les lignes qui ne traite pas de la nourriture pour humains ou animal\n",
    "mask01 = data_vegetaux[element] == 'Nourriture'\n",
    "mask02 = data_vegetaux[element] == 'Aliments pour animaux'\n",
    "data_vegetaux = data_vegetaux[mask01 | mask02]\n",
    "cereales"
   ]
  },
  {
   "cell_type": "code",
   "execution_count": 3,
   "id": "166f6727",
   "metadata": {},
   "outputs": [],
   "source": [
    "#Fonction qui détermine si un produit est une céréale et l'indique dans une colonne 'Est une céréales ?'\n",
    "def est_une_cereale(data , cereales) :\n",
    "    data[is_cereale] = False\n",
    "    for z, e, p in zip(data[zone], data[element], data[produit]) :\n",
    "        if p in cereales :\n",
    "            mask1 = data[zone] == z\n",
    "            mask2 = data[element] == e\n",
    "            mask3 = data[produit] == p\n",
    "            data.loc[mask1 & mask2 & mask3, is_cereale] = True\n",
    "    return data"
   ]
  },
  {
   "cell_type": "code",
   "execution_count": 4,
   "id": "8d09f2cc",
   "metadata": {},
   "outputs": [
    {
     "data": {
      "text/html": [
       "<div>\n",
       "<style scoped>\n",
       "    .dataframe tbody tr th:only-of-type {\n",
       "        vertical-align: middle;\n",
       "    }\n",
       "\n",
       "    .dataframe tbody tr th {\n",
       "        vertical-align: top;\n",
       "    }\n",
       "\n",
       "    .dataframe thead th {\n",
       "        text-align: right;\n",
       "    }\n",
       "</style>\n",
       "<table border=\"1\" class=\"dataframe\">\n",
       "  <thead>\n",
       "    <tr style=\"text-align: right;\">\n",
       "      <th></th>\n",
       "      <th>Zone</th>\n",
       "      <th>Élément</th>\n",
       "      <th>Code Produit</th>\n",
       "      <th>Produit</th>\n",
       "      <th>Unité</th>\n",
       "      <th>Valeur</th>\n",
       "      <th>Est une céréale ?</th>\n",
       "    </tr>\n",
       "  </thead>\n",
       "  <tbody>\n",
       "    <tr>\n",
       "      <th>6</th>\n",
       "      <td>Afghanistan</td>\n",
       "      <td>Nourriture</td>\n",
       "      <td>2511</td>\n",
       "      <td>Blé</td>\n",
       "      <td>Milliers de tonnes</td>\n",
       "      <td>4895.0</td>\n",
       "      <td>True</td>\n",
       "    </tr>\n",
       "    <tr>\n",
       "      <th>16</th>\n",
       "      <td>Afghanistan</td>\n",
       "      <td>Nourriture</td>\n",
       "      <td>2805</td>\n",
       "      <td>Riz (Eq Blanchi)</td>\n",
       "      <td>Milliers de tonnes</td>\n",
       "      <td>422.0</td>\n",
       "      <td>True</td>\n",
       "    </tr>\n",
       "    <tr>\n",
       "      <th>25</th>\n",
       "      <td>Afghanistan</td>\n",
       "      <td>Aliments pour animaux</td>\n",
       "      <td>2513</td>\n",
       "      <td>Orge</td>\n",
       "      <td>Milliers de tonnes</td>\n",
       "      <td>360.0</td>\n",
       "      <td>True</td>\n",
       "    </tr>\n",
       "    <tr>\n",
       "      <th>28</th>\n",
       "      <td>Afghanistan</td>\n",
       "      <td>Nourriture</td>\n",
       "      <td>2513</td>\n",
       "      <td>Orge</td>\n",
       "      <td>Milliers de tonnes</td>\n",
       "      <td>89.0</td>\n",
       "      <td>True</td>\n",
       "    </tr>\n",
       "    <tr>\n",
       "      <th>37</th>\n",
       "      <td>Afghanistan</td>\n",
       "      <td>Aliments pour animaux</td>\n",
       "      <td>2514</td>\n",
       "      <td>Maïs</td>\n",
       "      <td>Milliers de tonnes</td>\n",
       "      <td>200.0</td>\n",
       "      <td>True</td>\n",
       "    </tr>\n",
       "  </tbody>\n",
       "</table>\n",
       "</div>"
      ],
      "text/plain": [
       "           Zone                Élément  Code Produit           Produit  \\\n",
       "6   Afghanistan             Nourriture          2511               Blé   \n",
       "16  Afghanistan             Nourriture          2805  Riz (Eq Blanchi)   \n",
       "25  Afghanistan  Aliments pour animaux          2513              Orge   \n",
       "28  Afghanistan             Nourriture          2513              Orge   \n",
       "37  Afghanistan  Aliments pour animaux          2514              Maïs   \n",
       "\n",
       "                 Unité  Valeur  Est une céréale ?  \n",
       "6   Milliers de tonnes  4895.0               True  \n",
       "16  Milliers de tonnes   422.0               True  \n",
       "25  Milliers de tonnes   360.0               True  \n",
       "28  Milliers de tonnes    89.0               True  \n",
       "37  Milliers de tonnes   200.0               True  "
      ]
     },
     "execution_count": 4,
     "metadata": {},
     "output_type": "execute_result"
    }
   ],
   "source": [
    "data_vegetaux = est_une_cereale(data_vegetaux, cereales)\n",
    "data_vegetaux.head()"
   ]
  },
  {
   "cell_type": "code",
   "execution_count": 5,
   "id": "3f51c7f1",
   "metadata": {},
   "outputs": [
    {
     "data": {
      "text/html": [
       "<div>\n",
       "<style scoped>\n",
       "    .dataframe tbody tr th:only-of-type {\n",
       "        vertical-align: middle;\n",
       "    }\n",
       "\n",
       "    .dataframe tbody tr th {\n",
       "        vertical-align: top;\n",
       "    }\n",
       "\n",
       "    .dataframe thead th {\n",
       "        text-align: right;\n",
       "    }\n",
       "</style>\n",
       "<table border=\"1\" class=\"dataframe\">\n",
       "  <thead>\n",
       "    <tr style=\"text-align: right;\">\n",
       "      <th></th>\n",
       "      <th>Zone</th>\n",
       "      <th>Élément</th>\n",
       "      <th>Code Produit</th>\n",
       "      <th>Produit</th>\n",
       "      <th>Unité</th>\n",
       "      <th>Valeur</th>\n",
       "      <th>Est une céréale ?</th>\n",
       "    </tr>\n",
       "  </thead>\n",
       "  <tbody>\n",
       "    <tr>\n",
       "      <th>6</th>\n",
       "      <td>Afghanistan</td>\n",
       "      <td>Nourriture</td>\n",
       "      <td>2511</td>\n",
       "      <td>Blé</td>\n",
       "      <td>Milliers de tonnes</td>\n",
       "      <td>4895.0</td>\n",
       "      <td>True</td>\n",
       "    </tr>\n",
       "    <tr>\n",
       "      <th>16</th>\n",
       "      <td>Afghanistan</td>\n",
       "      <td>Nourriture</td>\n",
       "      <td>2805</td>\n",
       "      <td>Riz (Eq Blanchi)</td>\n",
       "      <td>Milliers de tonnes</td>\n",
       "      <td>422.0</td>\n",
       "      <td>True</td>\n",
       "    </tr>\n",
       "    <tr>\n",
       "      <th>25</th>\n",
       "      <td>Afghanistan</td>\n",
       "      <td>Aliments pour animaux</td>\n",
       "      <td>2513</td>\n",
       "      <td>Orge</td>\n",
       "      <td>Milliers de tonnes</td>\n",
       "      <td>360.0</td>\n",
       "      <td>True</td>\n",
       "    </tr>\n",
       "    <tr>\n",
       "      <th>28</th>\n",
       "      <td>Afghanistan</td>\n",
       "      <td>Nourriture</td>\n",
       "      <td>2513</td>\n",
       "      <td>Orge</td>\n",
       "      <td>Milliers de tonnes</td>\n",
       "      <td>89.0</td>\n",
       "      <td>True</td>\n",
       "    </tr>\n",
       "    <tr>\n",
       "      <th>37</th>\n",
       "      <td>Afghanistan</td>\n",
       "      <td>Aliments pour animaux</td>\n",
       "      <td>2514</td>\n",
       "      <td>Maïs</td>\n",
       "      <td>Milliers de tonnes</td>\n",
       "      <td>200.0</td>\n",
       "      <td>True</td>\n",
       "    </tr>\n",
       "  </tbody>\n",
       "</table>\n",
       "</div>"
      ],
      "text/plain": [
       "           Zone                Élément  Code Produit           Produit  \\\n",
       "6   Afghanistan             Nourriture          2511               Blé   \n",
       "16  Afghanistan             Nourriture          2805  Riz (Eq Blanchi)   \n",
       "25  Afghanistan  Aliments pour animaux          2513              Orge   \n",
       "28  Afghanistan             Nourriture          2513              Orge   \n",
       "37  Afghanistan  Aliments pour animaux          2514              Maïs   \n",
       "\n",
       "                 Unité  Valeur  Est une céréale ?  \n",
       "6   Milliers de tonnes  4895.0               True  \n",
       "16  Milliers de tonnes   422.0               True  \n",
       "25  Milliers de tonnes   360.0               True  \n",
       "28  Milliers de tonnes    89.0               True  \n",
       "37  Milliers de tonnes   200.0               True  "
      ]
     },
     "execution_count": 5,
     "metadata": {},
     "output_type": "execute_result"
    }
   ],
   "source": [
    "data_cereales = data_vegetaux[data_vegetaux[is_cereale] == True]\n",
    "data_cereales.head()"
   ]
  },
  {
   "cell_type": "code",
   "execution_count": 6,
   "id": "e117b07d",
   "metadata": {},
   "outputs": [
    {
     "data": {
      "text/html": [
       "<div>\n",
       "<style scoped>\n",
       "    .dataframe tbody tr th:only-of-type {\n",
       "        vertical-align: middle;\n",
       "    }\n",
       "\n",
       "    .dataframe tbody tr th {\n",
       "        vertical-align: top;\n",
       "    }\n",
       "\n",
       "    .dataframe thead th {\n",
       "        text-align: right;\n",
       "    }\n",
       "</style>\n",
       "<table border=\"1\" class=\"dataframe\">\n",
       "  <thead>\n",
       "    <tr style=\"text-align: right;\">\n",
       "      <th></th>\n",
       "      <th>Élément</th>\n",
       "      <th>Valeur</th>\n",
       "    </tr>\n",
       "  </thead>\n",
       "  <tbody>\n",
       "    <tr>\n",
       "      <th>0</th>\n",
       "      <td>Aliments pour animaux</td>\n",
       "      <td>1070617.0</td>\n",
       "    </tr>\n",
       "    <tr>\n",
       "      <th>1</th>\n",
       "      <td>Nourriture</td>\n",
       "      <td>1241405.0</td>\n",
       "    </tr>\n",
       "  </tbody>\n",
       "</table>\n",
       "</div>"
      ],
      "text/plain": [
       "                 Élément     Valeur\n",
       "0  Aliments pour animaux  1070617.0\n",
       "1             Nourriture  1241405.0"
      ]
     },
     "execution_count": 6,
     "metadata": {},
     "output_type": "execute_result"
    }
   ],
   "source": [
    "data_cereales = data_cereales.groupby(element).sum(valeur).reset_index()\n",
    "data_cereales = data_cereales.drop([code_produit, is_cereale], axis = 1)\n",
    "data_cereales.head()"
   ]
  },
  {
   "cell_type": "code",
   "execution_count": 15,
   "id": "2ed0bb31",
   "metadata": {},
   "outputs": [],
   "source": [
    "ratio_alimentation_animaux = round(((data_cereales[valeur][0]) / (data_cereales[valeur][1])), 2)\n"
   ]
  },
  {
   "cell_type": "code",
   "execution_count": 17,
   "id": "d35ece0b",
   "metadata": {},
   "outputs": [
    {
     "name": "stdout",
     "output_type": "stream",
     "text": [
      "Pour chaque kg de céréales destinées à l'alimentation,  860  g sont destinés aux animaux\n"
     ]
    }
   ],
   "source": [
    "#Réponse question 11 :\n",
    "print(\"Pour chaque kg de céréales destinées à l'alimentation, \", (int (ratio_alimentation_animaux * 1000)), \" g sont destinés aux animaux\")"
   ]
  },
  {
   "cell_type": "code",
   "execution_count": null,
   "id": "b3e455c7",
   "metadata": {},
   "outputs": [],
   "source": []
  }
 ],
 "metadata": {
  "kernelspec": {
   "display_name": "Python 3",
   "language": "python",
   "name": "python3"
  },
  "language_info": {
   "codemirror_mode": {
    "name": "ipython",
    "version": 3
   },
   "file_extension": ".py",
   "mimetype": "text/x-python",
   "name": "python",
   "nbconvert_exporter": "python",
   "pygments_lexer": "ipython3",
   "version": "3.8.8"
  }
 },
 "nbformat": 4,
 "nbformat_minor": 5
}
