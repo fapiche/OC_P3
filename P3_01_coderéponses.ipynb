{
 "cells": [
  {
   "cell_type": "code",
   "execution_count": 1,
   "id": "6a5e7aa5",
   "metadata": {},
   "outputs": [],
   "source": [
    "#Permet d'afficher les graphiques directement dans le code\n",
    "\n",
    "%matplotlib inline\n",
    "\n",
    "#Import des librairies nécessaire à la réalisation du projet\n",
    "\n",
    "import pandas as pd \n",
    "import numpy as np\n",
    "import matplotlib.pyplot as plt\n"
   ]
  },
  {
   "cell_type": "code",
   "execution_count": 2,
   "id": "fe7c53a3",
   "metadata": {},
   "outputs": [],
   "source": [
    "#On import le fichier csv contenant les données de la population\n",
    "\n",
    "data_population = pd.read_csv('fr_population.csv')\n",
    "\n",
    "code_domaine = 'Code Domaine'\n",
    "domaine = 'Domaine'\n",
    "code_zone = 'Code zone'\n",
    "zone = 'Zone'\n",
    "code_element = 'Code Élément'\n",
    "element = 'Élément'\n",
    "code_element = 'Code Produit'\n",
    "produit = 'Produit'\n",
    "code_annee = 'Code année'\n",
    "annee = 'Année'\n",
    "unite = 'Unité'\n",
    "valeur = 'Valeur'\n",
    "symbole = 'Symbole'\n",
    "description_symbole = 'Description du Symbole'"
   ]
  },
  {
   "cell_type": "code",
   "execution_count": 3,
   "id": "a095f891",
   "metadata": {},
   "outputs": [
    {
     "data": {
      "text/plain": [
       "(175, 14)"
      ]
     },
     "execution_count": 3,
     "metadata": {},
     "output_type": "execute_result"
    }
   ],
   "source": [
    "#On vérifie que la taille du fichier chargé est bonne\n",
    "\n",
    "data_population.shape"
   ]
  },
  {
   "cell_type": "code",
   "execution_count": 4,
   "id": "25b58bbc",
   "metadata": {},
   "outputs": [
    {
     "data": {
      "text/html": [
       "<div>\n",
       "<style scoped>\n",
       "    .dataframe tbody tr th:only-of-type {\n",
       "        vertical-align: middle;\n",
       "    }\n",
       "\n",
       "    .dataframe tbody tr th {\n",
       "        vertical-align: top;\n",
       "    }\n",
       "\n",
       "    .dataframe thead th {\n",
       "        text-align: right;\n",
       "    }\n",
       "</style>\n",
       "<table border=\"1\" class=\"dataframe\">\n",
       "  <thead>\n",
       "    <tr style=\"text-align: right;\">\n",
       "      <th></th>\n",
       "      <th>Code Domaine</th>\n",
       "      <th>Domaine</th>\n",
       "      <th>Code zone</th>\n",
       "      <th>Zone</th>\n",
       "      <th>Code Élément</th>\n",
       "      <th>Élément</th>\n",
       "      <th>Code Produit</th>\n",
       "      <th>Produit</th>\n",
       "      <th>Code année</th>\n",
       "      <th>Année</th>\n",
       "      <th>Unité</th>\n",
       "      <th>Valeur</th>\n",
       "      <th>Symbole</th>\n",
       "      <th>Description du Symbole</th>\n",
       "    </tr>\n",
       "  </thead>\n",
       "  <tbody>\n",
       "    <tr>\n",
       "      <th>0</th>\n",
       "      <td>FBSH</td>\n",
       "      <td>Bilans Alimentaire (Ancienne méthodologie et p...</td>\n",
       "      <td>2</td>\n",
       "      <td>Afghanistan</td>\n",
       "      <td>511</td>\n",
       "      <td>Population totale</td>\n",
       "      <td>2501</td>\n",
       "      <td>Population</td>\n",
       "      <td>2013</td>\n",
       "      <td>2013</td>\n",
       "      <td>1000 personnes</td>\n",
       "      <td>30552</td>\n",
       "      <td>NaN</td>\n",
       "      <td>Donnée officielle</td>\n",
       "    </tr>\n",
       "    <tr>\n",
       "      <th>1</th>\n",
       "      <td>FBSH</td>\n",
       "      <td>Bilans Alimentaire (Ancienne méthodologie et p...</td>\n",
       "      <td>202</td>\n",
       "      <td>Afrique du Sud</td>\n",
       "      <td>511</td>\n",
       "      <td>Population totale</td>\n",
       "      <td>2501</td>\n",
       "      <td>Population</td>\n",
       "      <td>2013</td>\n",
       "      <td>2013</td>\n",
       "      <td>1000 personnes</td>\n",
       "      <td>52776</td>\n",
       "      <td>NaN</td>\n",
       "      <td>Donnée officielle</td>\n",
       "    </tr>\n",
       "    <tr>\n",
       "      <th>2</th>\n",
       "      <td>FBSH</td>\n",
       "      <td>Bilans Alimentaire (Ancienne méthodologie et p...</td>\n",
       "      <td>3</td>\n",
       "      <td>Albanie</td>\n",
       "      <td>511</td>\n",
       "      <td>Population totale</td>\n",
       "      <td>2501</td>\n",
       "      <td>Population</td>\n",
       "      <td>2013</td>\n",
       "      <td>2013</td>\n",
       "      <td>1000 personnes</td>\n",
       "      <td>3173</td>\n",
       "      <td>NaN</td>\n",
       "      <td>Donnée officielle</td>\n",
       "    </tr>\n",
       "    <tr>\n",
       "      <th>3</th>\n",
       "      <td>FBSH</td>\n",
       "      <td>Bilans Alimentaire (Ancienne méthodologie et p...</td>\n",
       "      <td>4</td>\n",
       "      <td>Algérie</td>\n",
       "      <td>511</td>\n",
       "      <td>Population totale</td>\n",
       "      <td>2501</td>\n",
       "      <td>Population</td>\n",
       "      <td>2013</td>\n",
       "      <td>2013</td>\n",
       "      <td>1000 personnes</td>\n",
       "      <td>39208</td>\n",
       "      <td>NaN</td>\n",
       "      <td>Donnée officielle</td>\n",
       "    </tr>\n",
       "    <tr>\n",
       "      <th>4</th>\n",
       "      <td>FBSH</td>\n",
       "      <td>Bilans Alimentaire (Ancienne méthodologie et p...</td>\n",
       "      <td>79</td>\n",
       "      <td>Allemagne</td>\n",
       "      <td>511</td>\n",
       "      <td>Population totale</td>\n",
       "      <td>2501</td>\n",
       "      <td>Population</td>\n",
       "      <td>2013</td>\n",
       "      <td>2013</td>\n",
       "      <td>1000 personnes</td>\n",
       "      <td>82727</td>\n",
       "      <td>NaN</td>\n",
       "      <td>Donnée officielle</td>\n",
       "    </tr>\n",
       "  </tbody>\n",
       "</table>\n",
       "</div>"
      ],
      "text/plain": [
       "  Code Domaine                                            Domaine  Code zone  \\\n",
       "0         FBSH  Bilans Alimentaire (Ancienne méthodologie et p...          2   \n",
       "1         FBSH  Bilans Alimentaire (Ancienne méthodologie et p...        202   \n",
       "2         FBSH  Bilans Alimentaire (Ancienne méthodologie et p...          3   \n",
       "3         FBSH  Bilans Alimentaire (Ancienne méthodologie et p...          4   \n",
       "4         FBSH  Bilans Alimentaire (Ancienne méthodologie et p...         79   \n",
       "\n",
       "             Zone  Code Élément            Élément  Code Produit     Produit  \\\n",
       "0     Afghanistan           511  Population totale          2501  Population   \n",
       "1  Afrique du Sud           511  Population totale          2501  Population   \n",
       "2         Albanie           511  Population totale          2501  Population   \n",
       "3         Algérie           511  Population totale          2501  Population   \n",
       "4       Allemagne           511  Population totale          2501  Population   \n",
       "\n",
       "   Code année  Année           Unité  Valeur Symbole Description du Symbole  \n",
       "0        2013   2013  1000 personnes   30552     NaN      Donnée officielle  \n",
       "1        2013   2013  1000 personnes   52776     NaN      Donnée officielle  \n",
       "2        2013   2013  1000 personnes    3173     NaN      Donnée officielle  \n",
       "3        2013   2013  1000 personnes   39208     NaN      Donnée officielle  \n",
       "4        2013   2013  1000 personnes   82727     NaN      Donnée officielle  "
      ]
     },
     "execution_count": 4,
     "metadata": {},
     "output_type": "execute_result"
    }
   ],
   "source": [
    "#On visualise les première entrées de notre jeux de données afin de repérer les possibles clés primaires\n",
    "\n",
    "data_population.head()\n"
   ]
  },
  {
   "cell_type": "code",
   "execution_count": 5,
   "id": "0197627f",
   "metadata": {
    "scrolled": true
   },
   "outputs": [
    {
     "data": {
      "text/plain": [
       "Malaisie             1\n",
       "Guatemala            1\n",
       "Arménie              1\n",
       "Espagne              1\n",
       "Monténégro           1\n",
       "                    ..\n",
       "Trinité-et-Tobago    1\n",
       "Égypte               1\n",
       "Mali                 1\n",
       "Azerbaïdjan          1\n",
       "Éthiopie             1\n",
       "Name: Zone, Length: 175, dtype: int64"
      ]
     },
     "execution_count": 5,
     "metadata": {},
     "output_type": "execute_result"
    }
   ],
   "source": [
    "#On teste les clés primaires potentielles à l'aide de requêtes\n",
    "\n",
    "data_population[zone].value_counts()\n"
   ]
  },
  {
   "cell_type": "code",
   "execution_count": 6,
   "id": "19b4b15e",
   "metadata": {},
   "outputs": [
    {
     "data": {
      "text/plain": [
       "256    1\n",
       "167    1\n",
       "155    1\n",
       "156    1\n",
       "157    1\n",
       "      ..\n",
       "89     1\n",
       "90     1\n",
       "91     1\n",
       "93     1\n",
       "255    1\n",
       "Name: Code zone, Length: 175, dtype: int64"
      ]
     },
     "execution_count": 6,
     "metadata": {},
     "output_type": "execute_result"
    }
   ],
   "source": [
    "data_population[code_zone].value_counts()\n"
   ]
  },
  {
   "cell_type": "code",
   "execution_count": 7,
   "id": "3efcbd7f",
   "metadata": {},
   "outputs": [],
   "source": [
    "#Il apparait que les attributs 'Code zone' et 'zone' sont uniques pour chaque entrée et sont de potentielles clé primaires\n",
    "#En observant les données provenant des autres fichiers ont remarque qu'ils sont tout 2 utilisés dans différents fichiers\n",
    "#La clé primaire de ce jeu de données est donc le \"Code zone\"+\"zone\""
   ]
  },
  {
   "cell_type": "code",
   "execution_count": 8,
   "id": "6bdb7946",
   "metadata": {},
   "outputs": [
    {
     "data": {
      "text/html": [
       "<div>\n",
       "<style scoped>\n",
       "    .dataframe tbody tr th:only-of-type {\n",
       "        vertical-align: middle;\n",
       "    }\n",
       "\n",
       "    .dataframe tbody tr th {\n",
       "        vertical-align: top;\n",
       "    }\n",
       "\n",
       "    .dataframe thead th {\n",
       "        text-align: right;\n",
       "    }\n",
       "</style>\n",
       "<table border=\"1\" class=\"dataframe\">\n",
       "  <thead>\n",
       "    <tr style=\"text-align: right;\">\n",
       "      <th></th>\n",
       "      <th>Code Domaine</th>\n",
       "      <th>Domaine</th>\n",
       "      <th>Code zone</th>\n",
       "      <th>Code Élément</th>\n",
       "      <th>Élément</th>\n",
       "      <th>Code Produit</th>\n",
       "      <th>Produit</th>\n",
       "      <th>Code année</th>\n",
       "      <th>Année</th>\n",
       "      <th>Unité</th>\n",
       "      <th>Valeur</th>\n",
       "      <th>Symbole</th>\n",
       "      <th>Description du Symbole</th>\n",
       "    </tr>\n",
       "    <tr>\n",
       "      <th>Zone</th>\n",
       "      <th></th>\n",
       "      <th></th>\n",
       "      <th></th>\n",
       "      <th></th>\n",
       "      <th></th>\n",
       "      <th></th>\n",
       "      <th></th>\n",
       "      <th></th>\n",
       "      <th></th>\n",
       "      <th></th>\n",
       "      <th></th>\n",
       "      <th></th>\n",
       "      <th></th>\n",
       "    </tr>\n",
       "  </thead>\n",
       "  <tbody>\n",
       "    <tr>\n",
       "      <th>Afghanistan</th>\n",
       "      <td>FBSH</td>\n",
       "      <td>Bilans Alimentaire (Ancienne méthodologie et p...</td>\n",
       "      <td>2</td>\n",
       "      <td>511</td>\n",
       "      <td>Population totale</td>\n",
       "      <td>2501</td>\n",
       "      <td>Population</td>\n",
       "      <td>2013</td>\n",
       "      <td>2013</td>\n",
       "      <td>1000 personnes</td>\n",
       "      <td>30552</td>\n",
       "      <td>NaN</td>\n",
       "      <td>Donnée officielle</td>\n",
       "    </tr>\n",
       "    <tr>\n",
       "      <th>Afrique du Sud</th>\n",
       "      <td>FBSH</td>\n",
       "      <td>Bilans Alimentaire (Ancienne méthodologie et p...</td>\n",
       "      <td>202</td>\n",
       "      <td>511</td>\n",
       "      <td>Population totale</td>\n",
       "      <td>2501</td>\n",
       "      <td>Population</td>\n",
       "      <td>2013</td>\n",
       "      <td>2013</td>\n",
       "      <td>1000 personnes</td>\n",
       "      <td>52776</td>\n",
       "      <td>NaN</td>\n",
       "      <td>Donnée officielle</td>\n",
       "    </tr>\n",
       "    <tr>\n",
       "      <th>Albanie</th>\n",
       "      <td>FBSH</td>\n",
       "      <td>Bilans Alimentaire (Ancienne méthodologie et p...</td>\n",
       "      <td>3</td>\n",
       "      <td>511</td>\n",
       "      <td>Population totale</td>\n",
       "      <td>2501</td>\n",
       "      <td>Population</td>\n",
       "      <td>2013</td>\n",
       "      <td>2013</td>\n",
       "      <td>1000 personnes</td>\n",
       "      <td>3173</td>\n",
       "      <td>NaN</td>\n",
       "      <td>Donnée officielle</td>\n",
       "    </tr>\n",
       "    <tr>\n",
       "      <th>Algérie</th>\n",
       "      <td>FBSH</td>\n",
       "      <td>Bilans Alimentaire (Ancienne méthodologie et p...</td>\n",
       "      <td>4</td>\n",
       "      <td>511</td>\n",
       "      <td>Population totale</td>\n",
       "      <td>2501</td>\n",
       "      <td>Population</td>\n",
       "      <td>2013</td>\n",
       "      <td>2013</td>\n",
       "      <td>1000 personnes</td>\n",
       "      <td>39208</td>\n",
       "      <td>NaN</td>\n",
       "      <td>Donnée officielle</td>\n",
       "    </tr>\n",
       "    <tr>\n",
       "      <th>Allemagne</th>\n",
       "      <td>FBSH</td>\n",
       "      <td>Bilans Alimentaire (Ancienne méthodologie et p...</td>\n",
       "      <td>79</td>\n",
       "      <td>511</td>\n",
       "      <td>Population totale</td>\n",
       "      <td>2501</td>\n",
       "      <td>Population</td>\n",
       "      <td>2013</td>\n",
       "      <td>2013</td>\n",
       "      <td>1000 personnes</td>\n",
       "      <td>82727</td>\n",
       "      <td>NaN</td>\n",
       "      <td>Donnée officielle</td>\n",
       "    </tr>\n",
       "  </tbody>\n",
       "</table>\n",
       "</div>"
      ],
      "text/plain": [
       "               Code Domaine  \\\n",
       "Zone                          \n",
       "Afghanistan            FBSH   \n",
       "Afrique du Sud         FBSH   \n",
       "Albanie                FBSH   \n",
       "Algérie                FBSH   \n",
       "Allemagne              FBSH   \n",
       "\n",
       "                                                          Domaine  Code zone  \\\n",
       "Zone                                                                           \n",
       "Afghanistan     Bilans Alimentaire (Ancienne méthodologie et p...          2   \n",
       "Afrique du Sud  Bilans Alimentaire (Ancienne méthodologie et p...        202   \n",
       "Albanie         Bilans Alimentaire (Ancienne méthodologie et p...          3   \n",
       "Algérie         Bilans Alimentaire (Ancienne méthodologie et p...          4   \n",
       "Allemagne       Bilans Alimentaire (Ancienne méthodologie et p...         79   \n",
       "\n",
       "                Code Élément            Élément  Code Produit     Produit  \\\n",
       "Zone                                                                        \n",
       "Afghanistan              511  Population totale          2501  Population   \n",
       "Afrique du Sud           511  Population totale          2501  Population   \n",
       "Albanie                  511  Population totale          2501  Population   \n",
       "Algérie                  511  Population totale          2501  Population   \n",
       "Allemagne                511  Population totale          2501  Population   \n",
       "\n",
       "                Code année  Année           Unité  Valeur Symbole  \\\n",
       "Zone                                                                \n",
       "Afghanistan           2013   2013  1000 personnes   30552     NaN   \n",
       "Afrique du Sud        2013   2013  1000 personnes   52776     NaN   \n",
       "Albanie               2013   2013  1000 personnes    3173     NaN   \n",
       "Algérie               2013   2013  1000 personnes   39208     NaN   \n",
       "Allemagne             2013   2013  1000 personnes   82727     NaN   \n",
       "\n",
       "               Description du Symbole  \n",
       "Zone                                   \n",
       "Afghanistan         Donnée officielle  \n",
       "Afrique du Sud      Donnée officielle  \n",
       "Albanie             Donnée officielle  \n",
       "Algérie             Donnée officielle  \n",
       "Allemagne           Donnée officielle  "
      ]
     },
     "execution_count": 8,
     "metadata": {},
     "output_type": "execute_result"
    }
   ],
   "source": [
    "#Je déclare que 'Zone' est désormais l'index de mon DataFrame\n",
    "data_population = data_population.set_index(zone)\n",
    "data_population.head()"
   ]
  },
  {
   "cell_type": "code",
   "execution_count": 9,
   "id": "6fd59d55",
   "metadata": {},
   "outputs": [
    {
     "name": "stdout",
     "output_type": "stream",
     "text": [
      "8413993000\n"
     ]
    }
   ],
   "source": [
    "#On calcule la population totale\n",
    "populationmondiale = data_population[valeur].sum() * 1000\n",
    "print(populationmondiale)"
   ]
  },
  {
   "cell_type": "code",
   "execution_count": 10,
   "id": "759b1422",
   "metadata": {},
   "outputs": [],
   "source": [
    "#On remarque que la population totale indiquée par les données est plus grande que la population totale réelle.\n",
    "#Cela signifie soit que les données traitées sont incorrectes, soit qu'il y a des incohérences dans notre jeu de données.\n",
    "#On peut remarquer qu'une entrée n'est pas de données officielles et qu'elle traite d'un pays qui dispose déjà de données officiels\n",
    "#Il me parait judicieux de recalculer la population totale sans tenir compte des données non officielles\n"
   ]
  },
  {
   "cell_type": "code",
   "execution_count": 11,
   "id": "022b8595",
   "metadata": {},
   "outputs": [
    {
     "name": "stdout",
     "output_type": "stream",
     "text": [
      "6997326000\n"
     ]
    }
   ],
   "source": [
    "#On calcul la population selon les sources officielles\n",
    "population_mondiale = data_population[data_population[description_symbole] == 'Donnée officielle'][valeur].sum() * 1000\n",
    "print(population_mondiale)"
   ]
  },
  {
   "cell_type": "code",
   "execution_count": 12,
   "id": "662c2c8b",
   "metadata": {},
   "outputs": [],
   "source": [
    "#On remarque que le résultat obtenu est maintenant pertinent"
   ]
  }
 ],
 "metadata": {
  "kernelspec": {
   "display_name": "Python 3",
   "language": "python",
   "name": "python3"
  },
  "language_info": {
   "codemirror_mode": {
    "name": "ipython",
    "version": 3
   },
   "file_extension": ".py",
   "mimetype": "text/x-python",
   "name": "python",
   "nbconvert_exporter": "python",
   "pygments_lexer": "ipython3",
   "version": "3.8.8"
  }
 },
 "nbformat": 4,
 "nbformat_minor": 5
}
